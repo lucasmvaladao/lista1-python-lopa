{
  "cells": [
    {
      "cell_type": "markdown",
      "metadata": {
        "id": "view-in-github",
        "colab_type": "text"
      },
      "source": [
        "<a href=\"https://colab.research.google.com/github/lucasmvaladao/lista1-python-lopa/blob/main/Lista1_LOPA.ipynb\" target=\"_parent\"><img src=\"https://colab.research.google.com/assets/colab-badge.svg\" alt=\"Open In Colab\"/></a>"
      ]
    },
    {
      "cell_type": "markdown",
      "metadata": {
        "id": "Y_050mW0ubGK"
      },
      "source": [
        "## Lista de Exercícios Aritmética"
      ]
    },
    {
      "cell_type": "markdown",
      "metadata": {
        "id": "2p-l0Okghkqz"
      },
      "source": [
        "Exercício **1**"
      ]
    },
    {
      "cell_type": "markdown",
      "metadata": {
        "id": "RbsTTMEYhrvp"
      },
      "source": [
        "Faça um programa que receba 5 notas, calcule a média aritmética destas notas e\n",
        "apresente o resultado."
      ]
    },
    {
      "cell_type": "code",
      "execution_count": null,
      "metadata": {
        "colab": {
          "base_uri": "https://localhost:8080/"
        },
        "id": "9Q4t8hPHZFVT",
        "outputId": "26b3e509-0221-4e24-9ec7-2017edcd6847"
      },
      "outputs": [
        {
          "name": "stdout",
          "output_type": "stream",
          "text": [
            "Vamos Calcular suas notas?\n",
            "Digite a primeira nota: 10\n",
            "Digite a segunda nota: 9\n",
            "Digite a terceira nota: 9\n",
            "Digite a quarta nota: 9\n",
            "Digite a quinta nota: 9\n",
            " A sua média de nota é  9.2\n"
          ]
        }
      ],
      "source": [
        "print( 'Vamos Calcular suas notas?')\n",
        "nota1 = float(input('Digite a primeira nota: '))\n",
        "nota2 = float(input('Digite a segunda nota: ' ))\n",
        "nota3 = float(input('Digite a terceira nota: '))\n",
        "nota4 = float(input('Digite a quarta nota: '  ))\n",
        "nota5 = float(input('Digite a quinta nota: '))\n",
        "\n",
        "media = (nota1 + nota2 + nota3 + nota4 + nota5) / 5\n",
        "\n",
        "print('A sua média de nota é ' , media)"
      ]
    },
    {
      "cell_type": "markdown",
      "metadata": {
        "id": "XoroEf0VhvDB"
      },
      "source": [
        "Exercício 2"
      ]
    },
    {
      "cell_type": "markdown",
      "metadata": {
        "id": "EXTeQExChxcJ"
      },
      "source": [
        "Faça um programa que converta a moeda REAL em DÓLAR"
      ]
    },
    {
      "cell_type": "code",
      "execution_count": null,
      "metadata": {
        "colab": {
          "base_uri": "https://localhost:8080/"
        },
        "id": "VgkZhnLQidXx",
        "outputId": "cb727096-54c6-4874-9e04-affc5c7bd557"
      },
      "outputs": [
        {
          "name": "stdout",
          "output_type": "stream",
          "text": [
            "Convertor de Moeda!\n",
            "Por favor, insira o valor que você possui em reais:  10\n",
            "10.0  reais em dolar equivale á 1.7241379310344829 doláres\n"
          ]
        }
      ],
      "source": [
        "print('Convertor de Moeda!')\n",
        "real = float(input('Por favor, insira o valor que você possui em reais:  '))\n",
        "\n",
        "dolar = real/5.80\n",
        "\n",
        "print( real ,\" reais em dolar equivale á\",  dolar , 'doláres')"
      ]
    },
    {
      "cell_type": "markdown",
      "metadata": {
        "id": "KBIhKKMzh0rh"
      },
      "source": [
        "Exercício 3"
      ]
    },
    {
      "cell_type": "markdown",
      "metadata": {
        "id": "KgE0y_c2h5dR"
      },
      "source": [
        "Faça um programa que receba o salário de um funcionário, calcule e mostre o novo\n",
        "salário, sabendo-se que este sofreu um aumento de 25%."
      ]
    },
    {
      "cell_type": "code",
      "execution_count": null,
      "metadata": {
        "colab": {
          "base_uri": "https://localhost:8080/"
        },
        "id": "rQ0I6Q0ok2sZ",
        "outputId": "f3aad9e2-28fb-4296-9de6-7035629ea885"
      },
      "outputs": [
        {
          "name": "stdout",
          "output_type": "stream",
          "text": [
            "Ótimas notícias! Você receberá um aumento no seu salário. \n",
            "Digite o valor do seu salário atual: 1000\n",
            "O seu novo salário será de  1250.0\n"
          ]
        }
      ],
      "source": [
        "print(\"Ótimas notícias! Você receberá um aumento no seu salário. \")\n",
        "salario = float(input(\"Digite o valor do seu salário atual: \"))\n",
        "\n",
        "NovoSalario = salario * 1.25\n",
        "\n",
        "print(\"O seu novo salário será de \", NovoSalario)"
      ]
    },
    {
      "cell_type": "markdown",
      "metadata": {
        "id": "AFB29IPZh7LI"
      },
      "source": [
        "Exercício 4"
      ]
    },
    {
      "cell_type": "markdown",
      "metadata": {
        "id": "DeK4xsU3h_v4"
      },
      "source": [
        "Faça um programa que calcule a área de um círculo."
      ]
    },
    {
      "cell_type": "code",
      "execution_count": null,
      "metadata": {
        "colab": {
          "base_uri": "https://localhost:8080/"
        },
        "id": "DchbPb7fms-2",
        "outputId": "a633421a-736b-471d-bdee-7f7c9d6d39ab"
      },
      "outputs": [
        {
          "name": "stdout",
          "output_type": "stream",
          "text": [
            "Vamos calcular a área de um circulo?\n",
            "Digite o valor do raio do circulo: 30\n",
            "A área do circulo é:  2826.0\n"
          ]
        }
      ],
      "source": [
        "print('Vamos calcular a área de um circulo?')\n",
        "\n",
        "cir = float(input('Digite o valor do raio do circulo: '))\n",
        "\n",
        "area = cir ** 2 * 3.14\n",
        "\n",
        "print('A área do circulo é: ', area)"
      ]
    },
    {
      "cell_type": "markdown",
      "metadata": {
        "id": "VK3OkGcFiB0R"
      },
      "source": [
        "Exercício 5"
      ]
    },
    {
      "cell_type": "markdown",
      "metadata": {
        "id": "LyJoNK8SiM6h"
      },
      "source": [
        "Faça um programa que recebe um número em Pés, faça as conversões a seguir e\n",
        "mostre os resultados.\n",
        "- Polegadas;\n",
        "- Jardas;\n",
        "- Milhas;"
      ]
    },
    {
      "cell_type": "code",
      "execution_count": null,
      "metadata": {
        "colab": {
          "base_uri": "https://localhost:8080/"
        },
        "id": "QRJzP08Qol1V",
        "outputId": "caebf5db-9dc8-410b-d969-8fda9ba72557"
      },
      "outputs": [
        {
          "name": "stdout",
          "output_type": "stream",
          "text": [
            "Conversão de pés\n",
            "Digite o valor em pés: 10\n",
            "10.0  pés equivalem a:\n",
            "120.0  polegadas\n",
            "3.3333333333333335  jardas\n",
            "0.005681818181818182  milhas\n"
          ]
        }
      ],
      "source": [
        "print('Conversão de pés')\n",
        "\n",
        "pes = float(input('Digite o valor em pés: '))\n",
        "\n",
        "pole = pes * 12\n",
        "jarda = pes / 3\n",
        "milha = pes / 1760\n",
        "\n",
        "\n",
        "print(pes, ' pés equivalem a:')\n",
        "print(pole, ' polegadas')\n",
        "print(jarda, ' jardas')\n",
        "print(milha, ' milhas')"
      ]
    },
    {
      "cell_type": "markdown",
      "metadata": {
        "id": "f0mwEBh9ugAI"
      },
      "source": [
        "## Lista de Exercícios Condicional"
      ]
    },
    {
      "cell_type": "markdown",
      "metadata": {
        "id": "Inkcbm9GilIh"
      },
      "source": [
        "Exercício 6"
      ]
    },
    {
      "cell_type": "markdown",
      "metadata": {
        "id": "i91LrQfOioqg"
      },
      "source": [
        "Escreva um programa que leia a idade de um indivíduo e escreva a faixa etária a que\n",
        "pertence;"
      ]
    },
    {
      "cell_type": "code",
      "execution_count": null,
      "metadata": {
        "colab": {
          "base_uri": "https://localhost:8080/"
        },
        "id": "zjNZ_EPLupPL",
        "outputId": "85de6ff4-0065-4c8b-c1e5-322fd004d0a1"
      },
      "outputs": [
        {
          "name": "stdout",
          "output_type": "stream",
          "text": [
            "Vamos calcular seu novo salário!\n",
            "Digite o valor do seu salário atual: 1000\n",
            "O seu novo salário será de  1150.0\n"
          ]
        }
      ],
      "source": [
        "print('Vamos calcular seu novo salário!')\n",
        "salario = float(input(\"Digite o valor do seu salário atual: \"))\n",
        "\n",
        "if salario < 1000:\n",
        "    NovoSalario = salario * 1.25\n",
        "    print(\"O seu novo salário será de \", NovoSalario)\n",
        "elif salario >= 1000 and  salario < 2000 :\n",
        "    NovoSalario = salario * 1.15\n",
        "    print(\"O seu novo salário será de \", NovoSalario)\n",
        "\n",
        "else:\n",
        "    NovoSalario = salario * 1.10\n",
        "    print(\"O seu novo salário será de \", NovoSalario)\n",
        "\n"
      ]
    },
    {
      "cell_type": "markdown",
      "metadata": {
        "id": "LqdTrNzUkwe_"
      },
      "source": []
    },
    {
      "cell_type": "markdown",
      "metadata": {
        "id": "9tkulea1jbjY"
      },
      "source": [
        "Exercício **7**"
      ]
    },
    {
      "cell_type": "markdown",
      "metadata": {
        "id": "lGjaRqozjgHx"
      },
      "source": [
        "Faça um programa que receba o mês em número e apresente-o por extenso."
      ]
    },
    {
      "cell_type": "code",
      "execution_count": null,
      "metadata": {
        "colab": {
          "base_uri": "https://localhost:8080/"
        },
        "id": "knh_ppA9x3w_",
        "outputId": "4e51eede-65ee-4c74-b8cc-1bfa30cf075a"
      },
      "outputs": [
        {
          "name": "stdout",
          "output_type": "stream",
          "text": [
            "Digite o número do mês (1-12): 6\n",
            "O mês 6 é Junho.\n"
          ]
        }
      ],
      "source": [
        "mes = int(input(\"Digite o número do mês (1-12): \"))\n",
        "\n",
        "meses = [\n",
        "    \"Janeiro\", \"Fevereiro\", \"Março\", \"Abril\", \"Maio\", \"Junho\",\n",
        "    \"Julho\", \"Agosto\", \"Setembro\", \"Outubro\", \"Novembro\", \"Dezembro\"\n",
        "]\n",
        "\n",
        "if 1 <= mes <= 12:\n",
        "    print(f\"O mês {mes} é {meses[mes - 1]}.\")\n",
        "else:\n",
        "    print(\"Mês inválido! Digite um número entre 1 e 12.\")\n"
      ]
    },
    {
      "cell_type": "markdown",
      "metadata": {
        "id": "zarV4qSEjVAQ"
      },
      "source": [
        "Exercício 8"
      ]
    },
    {
      "cell_type": "markdown",
      "metadata": {
        "id": "qLMk8OEUjXqn"
      },
      "source": [
        "Escreva um programa que leia a idade de um indivíduo e escreva a faixa etária a que\n",
        "pertence;"
      ]
    },
    {
      "cell_type": "code",
      "execution_count": null,
      "metadata": {
        "colab": {
          "base_uri": "https://localhost:8080/"
        },
        "id": "ccV3NQzKZUWi",
        "outputId": "9bf22418-53cb-4546-dc90-920fce1c1926"
      },
      "outputs": [
        {
          "name": "stdout",
          "output_type": "stream",
          "text": [
            "Vamos ver qual faixa eteraia você pertence?\n",
            "Digite a sua idade: 18\n",
            "Você pertence a categoria adulto\n"
          ]
        }
      ],
      "source": [
        "print('Vamos ver qual faixa eteraia você pertence?')\n",
        "idade = int(input('Digite a sua idade: '))\n",
        "\n",
        "if idade <= 12 :\n",
        "  print('Você pertence a categoria criança')\n",
        "elif idade >= 13 and idade <= 17 :\n",
        "    print('Você pertence a categoria adolescente')\n",
        "elif idade >= 18 and idade <= 59 :\n",
        "    print('Você pertence a categoria adulto')\n",
        "else:\n",
        "    print('Você pertence a categoria especialista')"
      ]
    },
    {
      "cell_type": "markdown",
      "metadata": {
        "id": "DlmSEyQhjLRg"
      },
      "source": [
        "Exercício 9"
      ]
    },
    {
      "cell_type": "markdown",
      "metadata": {
        "id": "6MGORc_KjQHo"
      },
      "source": [
        "Faça um programa para exibir a ocupação de um funcionário a partir de seu código de\n",
        "profissão;"
      ]
    },
    {
      "cell_type": "code",
      "execution_count": null,
      "metadata": {
        "colab": {
          "base_uri": "https://localhost:8080/"
        },
        "id": "-ar7FADKcM9e",
        "outputId": "88b44a18-688e-4139-bd58-6f48ee4b9f3e"
      },
      "outputs": [
        {
          "name": "stdout",
          "output_type": "stream",
          "text": [
            "Vamos descobrir sua ocupação!\n",
            "Digite o código da sua ocupação: 4\n",
            "Você é Arquiteto\n"
          ]
        }
      ],
      "source": [
        "print('Vamos descobrir sua ocupação?')\n",
        "cod = int(input('Digite o código da sua ocupação: '))\n",
        "\n",
        "if cod == 1:\n",
        "    print('Você é Matemático')\n",
        "elif cod == 2:\n",
        "    print('Você é Analista de Sistemas')\n",
        "elif cod == 3:\n",
        "    print('Você é Físico')\n",
        "elif cod == 4:\n",
        "    print('Você é Arquiteto')\n",
        "elif cod == 5:\n",
        "    print('Você é Piloto de Aeronaves')\n",
        "else:\n",
        "    print('Você não possui ocupação definida')"
      ]
    },
    {
      "cell_type": "markdown",
      "metadata": {
        "id": "zPQTWDPPjC7A"
      },
      "source": [
        "Exercício 10"
      ]
    },
    {
      "cell_type": "markdown",
      "metadata": {
        "id": "Sxl137HbjFxn"
      },
      "source": [
        "Escreva um programa que leia a velocidade máxima permitida em uma avenida e\n",
        "velocidade com que o motorista estava dirigindo nela e calcule a multa que uma\n",
        "pessoa vai receber;"
      ]
    },
    {
      "cell_type": "code",
      "execution_count": null,
      "metadata": {
        "colab": {
          "base_uri": "https://localhost:8080/"
        },
        "id": "sTaNCb4xes1Q",
        "outputId": "d90d77f7-6fa5-4ebd-8315-09139b4c2f8d"
      },
      "outputs": [
        {
          "name": "stdout",
          "output_type": "stream",
          "text": [
            "Digite a velocidade máxima permitida: 50\n",
            "Digite a velocidade do carro: 100\n",
            "Voce deve uma multa de R$ 200,00\n"
          ]
        }
      ],
      "source": [
        "veloMax = int(input('Digite a velocidade máxima permitida: '))\n",
        "veloAtu  = int(input('Digite a velocidade do carro: '))\n",
        "\n",
        "if veloMax >= veloAtu :\n",
        "  print('Você está dentro da velocidade permitida')\n",
        "elif veloAtu - veloMax <= 10:\n",
        "  print('Voce deve uma multa de R$ 50,00')\n",
        "elif veloAtu - veloMax >= 11 and veloAtu - veloMax <=30 :\n",
        "  print('Voce deve uma multa de R$ 100,00')\n",
        "else :\n",
        "  print('Voce deve uma multa de R$ 200,00')"
      ]
    },
    {
      "cell_type": "markdown",
      "metadata": {
        "id": "hS-RYcyDi7Uf"
      },
      "source": [
        "Exercício 11"
      ]
    },
    {
      "cell_type": "markdown",
      "metadata": {
        "id": "1aICJTgXi-eP"
      },
      "source": [
        "Escreva um algoritmo para exibir o nome do lanche a partir da entrada do número do\n",
        "mesmo pelo usuário;"
      ]
    },
    {
      "cell_type": "code",
      "execution_count": null,
      "metadata": {
        "id": "rGfPoiwtlVd8"
      },
      "outputs": [],
      "source": [
        "cod = int(input('Digite o código do seu lanche: '))\n",
        "\n",
        "if cod == 1:\n",
        "    print('Big Mac')\n",
        "elif cod == 2:\n",
        "    print('Quarteirão')\n",
        "elif cod == 3:\n",
        "    print('McChicken')\n",
        "elif cod == 4:\n",
        "    print('Cheddar McMelt')\n",
        "elif cod == 5:\n",
        "    print('McMax')\n",
        "else:\n",
        "    print('Você não possui ocupação definida')"
      ]
    },
    {
      "cell_type": "markdown",
      "metadata": {
        "id": "vgl9hcdHu7yF"
      },
      "source": [
        "Exercício 12"
      ]
    },
    {
      "cell_type": "markdown",
      "metadata": {
        "id": "_YpjgwBqu_md"
      },
      "source": [
        "Escreva um algoritmo que a partir da massa e da altura informados pelo usuário,\n",
        "calcule e apresente seu IMC e sua classificação conforme a tabela abaixo:"
      ]
    },
    {
      "cell_type": "code",
      "execution_count": null,
      "metadata": {
        "colab": {
          "base_uri": "https://localhost:8080/"
        },
        "id": "ZxXQ8glMvBv8",
        "outputId": "4431ed66-87cd-4c2e-adcd-587614a0a876"
      },
      "outputs": [
        {
          "name": "stdout",
          "output_type": "stream",
          "text": [
            "Insira sua altura e veremos em qual classificação de IMC: 30\n",
            "Obesidade\n"
          ]
        }
      ],
      "source": [
        "altura = float(input(\"Insira sua altura e veremos em qual classificação de IMC: \"))\n",
        "\n",
        "if altura < 16:\n",
        "  print(\"Magreza\")\n",
        "elif altura < 25:\n",
        "  print(\"Saudável\")\n",
        "elif altura < 29:\n",
        "  print(\"Sobrepeso\")\n",
        "else:\n",
        "  print(\"Obesidade\")"
      ]
    },
    {
      "cell_type": "markdown",
      "metadata": {
        "id": "ulDU04myxldE"
      },
      "source": [
        "Exercício 13"
      ]
    },
    {
      "cell_type": "markdown",
      "metadata": {
        "id": "A3MeuK1txoKk"
      },
      "source": [
        "Faça um programa que receba 3 valores e verifique se eles podem representar os\n",
        "lados em um triângulo;\n",
        "\n",
        "* Equilátero 3 lados iguais\n",
        "* Isósceles 2 lados iguais\n",
        "* Escaleno 3 lados diferente\n",
        "\n",
        "Lembre-se que para formar um triângulo, nenhum dos lados pode ser igual a zero e\n",
        "cada um dos lados precisa ser menor que a soma dos outros dois"
      ]
    },
    {
      "cell_type": "code",
      "execution_count": null,
      "metadata": {
        "colab": {
          "background_save": true,
          "base_uri": "https://localhost:8080/"
        },
        "id": "8u9blmL7x0Z0",
        "outputId": "8d854730-f1ec-43b0-b23a-91495d4d8b43"
      },
      "outputs": [
        {
          "name": "stdout",
          "output_type": "stream",
          "text": [
            "Vamos verificar qual o tipo do seu triângulo\n",
            "Erro: Lado menor que zero. Tente novamente.\n"
          ]
        }
      ],
      "source": [
        "print(\"Vamos verificar qual o tipo do seu triângulo\")\n",
        "lados = []\n",
        "while True:\n",
        "  try:\n",
        "    for i in range(1, 4):\n",
        "      lado = float(input(f\"Digite o valor do {i}º lado: \"))\n",
        "      if lado <= 0:\n",
        "          raise ValueError(\"Lado menor que zero\")\n",
        "\n",
        "      lados.append(lado)\n",
        "\n",
        "    if lados[0] == lados[1] == lados[2]:\n",
        "        print(\"Equilátero 3 lados iguais\")\n",
        "    elif lados[0] == lados[1] or lados[1] == lados[2] or lados[0] == lados[2]:\n",
        "        print(\"Isósceles 2 lados iguais\")\n",
        "    elif lados[0] > lados[1] + lados[2] or lados[1] > lados[2] + lados[0] or lados[2] > lados[0] + lados[1]:\n",
        "        print(\"Não será possivel criar um triângulo\")\n",
        "    else:\n",
        "        print(\"Escaleno 3 lados diferente\")\n",
        "    break\n",
        "\n",
        "  except ValueError as e:\n",
        "           print(f\"Erro: {e}. Tente novamente.\")"
      ]
    },
    {
      "cell_type": "markdown",
      "metadata": {
        "id": "bYzPaldupBrc"
      },
      "source": [
        "## Lista de Exercícios de Laços"
      ]
    },
    {
      "cell_type": "markdown",
      "metadata": {
        "id": "rHmkU4KrpGcU"
      },
      "source": [
        "Exercício 14"
      ]
    },
    {
      "cell_type": "markdown",
      "metadata": {
        "id": "mRjT9nk_pUko"
      },
      "source": [
        "Faça um programa que leia uma palavra qualquer e a imprima 10 vezes;"
      ]
    },
    {
      "cell_type": "code",
      "execution_count": null,
      "metadata": {
        "colab": {
          "base_uri": "https://localhost:8080/"
        },
        "id": "0ZetUBCUpVcU",
        "outputId": "a9b85074-fd66-4eba-ad17-89bf8ebcfc26"
      },
      "outputs": [
        {
          "name": "stdout",
          "output_type": "stream",
          "text": [
            "Insira uma palavra: oi\n",
            "oi\n",
            "oi\n",
            "oi\n",
            "oi\n",
            "oi\n",
            "oi\n",
            "oi\n",
            "oi\n",
            "oi\n"
          ]
        }
      ],
      "source": [
        "palavra = str(input(\"Insira uma palavra: \"))\n",
        "\n",
        "for i in range(10):\n",
        "  print(f\"{palavra}\")"
      ]
    },
    {
      "cell_type": "markdown",
      "metadata": {
        "id": "IDr_vtUSq3sm"
      },
      "source": [
        "Exercício 15"
      ]
    },
    {
      "cell_type": "markdown",
      "metadata": {
        "id": "v0bfR-Kcq5pZ"
      },
      "source": [
        "Faça um programa que calcule a tabuada de um número digitado pelo usuário;"
      ]
    },
    {
      "cell_type": "code",
      "execution_count": null,
      "metadata": {
        "colab": {
          "base_uri": "https://localhost:8080/"
        },
        "id": "9POOwivTq-Uf",
        "outputId": "83c64e11-1722-4f8d-969c-c60ec0b02199"
      },
      "outputs": [
        {
          "name": "stdout",
          "output_type": "stream",
          "text": [
            "Insira um numero e veremos a tabuda: 2\n",
            "2 x 1 = 2\n",
            "2 x 2 = 4\n",
            "2 x 3 = 6\n",
            "2 x 4 = 8\n",
            "2 x 5 = 10\n",
            "2 x 6 = 12\n",
            "2 x 7 = 14\n",
            "2 x 8 = 16\n",
            "2 x 9 = 18\n",
            "2 x 10 = 20\n"
          ]
        }
      ],
      "source": [
        "tabu = int(input(\"Insira um numero e veremos a tabuda: \"))\n",
        "\n",
        "for i in range(1, 11):\n",
        "\n",
        "  print(f\"{tabu} x {i} = {tabu * i}\")"
      ]
    },
    {
      "cell_type": "markdown",
      "metadata": {
        "id": "W5f21GortQsR"
      },
      "source": [
        "Exercício 16"
      ]
    },
    {
      "cell_type": "markdown",
      "metadata": {
        "id": "SON2mZ7ntX91"
      },
      "source": [
        "Faça um programa que calcula a tabuada dos números 2 a 9;"
      ]
    },
    {
      "cell_type": "code",
      "execution_count": null,
      "metadata": {
        "colab": {
          "base_uri": "https://localhost:8080/"
        },
        "id": "0wGKYKA7tdcQ",
        "outputId": "09ec2007-62ff-4df2-d9f7-e14a2b7e12a4"
      },
      "outputs": [
        {
          "name": "stdout",
          "output_type": "stream",
          "text": [
            "Tabuada do 2\n",
            "2 x 1 = 2\n",
            "2 x 2 = 4\n",
            "2 x 3 = 6\n",
            "2 x 4 = 8\n",
            "2 x 5 = 10\n",
            "2 x 6 = 12\n",
            "2 x 7 = 14\n",
            "2 x 8 = 16\n",
            "2 x 9 = 18\n",
            "2 x 10 = 20\n",
            "Tabuada do 3\n",
            "3 x 1 = 3\n",
            "3 x 2 = 6\n",
            "3 x 3 = 9\n",
            "3 x 4 = 12\n",
            "3 x 5 = 15\n",
            "3 x 6 = 18\n",
            "3 x 7 = 21\n",
            "3 x 8 = 24\n",
            "3 x 9 = 27\n",
            "3 x 10 = 30\n",
            "Tabuada do 4\n",
            "4 x 1 = 4\n",
            "4 x 2 = 8\n",
            "4 x 3 = 12\n",
            "4 x 4 = 16\n",
            "4 x 5 = 20\n",
            "4 x 6 = 24\n",
            "4 x 7 = 28\n",
            "4 x 8 = 32\n",
            "4 x 9 = 36\n",
            "4 x 10 = 40\n",
            "Tabuada do 5\n",
            "5 x 1 = 5\n",
            "5 x 2 = 10\n",
            "5 x 3 = 15\n",
            "5 x 4 = 20\n",
            "5 x 5 = 25\n",
            "5 x 6 = 30\n",
            "5 x 7 = 35\n",
            "5 x 8 = 40\n",
            "5 x 9 = 45\n",
            "5 x 10 = 50\n",
            "Tabuada do 6\n",
            "6 x 1 = 6\n",
            "6 x 2 = 12\n",
            "6 x 3 = 18\n",
            "6 x 4 = 24\n",
            "6 x 5 = 30\n",
            "6 x 6 = 36\n",
            "6 x 7 = 42\n",
            "6 x 8 = 48\n",
            "6 x 9 = 54\n",
            "6 x 10 = 60\n",
            "Tabuada do 7\n",
            "7 x 1 = 7\n",
            "7 x 2 = 14\n",
            "7 x 3 = 21\n",
            "7 x 4 = 28\n",
            "7 x 5 = 35\n",
            "7 x 6 = 42\n",
            "7 x 7 = 49\n",
            "7 x 8 = 56\n",
            "7 x 9 = 63\n",
            "7 x 10 = 70\n",
            "Tabuada do 8\n",
            "8 x 1 = 8\n",
            "8 x 2 = 16\n",
            "8 x 3 = 24\n",
            "8 x 4 = 32\n",
            "8 x 5 = 40\n",
            "8 x 6 = 48\n",
            "8 x 7 = 56\n",
            "8 x 8 = 64\n",
            "8 x 9 = 72\n",
            "8 x 10 = 80\n",
            "Tabuada do 9\n",
            "9 x 1 = 9\n",
            "9 x 2 = 18\n",
            "9 x 3 = 27\n",
            "9 x 4 = 36\n",
            "9 x 5 = 45\n",
            "9 x 6 = 54\n",
            "9 x 7 = 63\n",
            "9 x 8 = 72\n",
            "9 x 9 = 81\n",
            "9 x 10 = 90\n"
          ]
        }
      ],
      "source": [
        "for i in range(2, 10):\n",
        "  print(f\"Tabuada do {i}\")\n",
        "  for j in range(1, 11):\n",
        "    print(f\"{i} x {j} = {i * j}\")"
      ]
    },
    {
      "cell_type": "markdown",
      "metadata": {
        "id": "3nvQQnQpuTT-"
      },
      "source": [
        "Exercicio 17"
      ]
    },
    {
      "cell_type": "markdown",
      "metadata": {
        "id": "wsa7-pd1uXB_"
      },
      "source": [
        "Faça um programa que receba dois valores, sendo que o primeiro deve ser menor que\n",
        "o segundo. O programa deve apresentar todos os números ímpares contidos nesta\n",
        "sequência. (Modulo %. Exemplo: 7%2 = 1)"
      ]
    },
    {
      "cell_type": "code",
      "execution_count": null,
      "metadata": {
        "colab": {
          "base_uri": "https://localhost:8080/"
        },
        "id": "cQGmGl3VuvL1",
        "outputId": "f7987aed-b89d-407b-b170-e2fe19b6eee7"
      },
      "outputs": [
        {
          "name": "stdout",
          "output_type": "stream",
          "text": [
            "Digite o primeiro numero: 2\n",
            "Digite o segundo numero: 10\n",
            "[3, 5, 7, 9]\n"
          ]
        }
      ],
      "source": [
        "n1 = int(input(\"Digite o primeiro numero: \"))\n",
        "n2 = int(input(\"Digite o segundo numero: \"))\n",
        "\n",
        "impar = []\n",
        "for i in range(n1, n2+1):\n",
        "  if i % 2 == 1:\n",
        "    impar.append(i)\n",
        "\n",
        "print(impar)"
      ]
    },
    {
      "cell_type": "markdown",
      "metadata": {
        "id": "9fXtP3ORxUnw"
      },
      "source": [
        "Exercício 18"
      ]
    },
    {
      "cell_type": "markdown",
      "metadata": {
        "id": "5q7AB9IJxTAa"
      },
      "source": [
        "Faça um programa que receba 10 números e apresente a soma dos números pares e\n",
        "dos números ímpares;"
      ]
    },
    {
      "cell_type": "code",
      "execution_count": null,
      "metadata": {
        "colab": {
          "base_uri": "https://localhost:8080/"
        },
        "id": "SvZMIg72xWuY",
        "outputId": "f03a4907-39bc-4e29-8611-58e1b26c8640"
      },
      "outputs": [
        {
          "name": "stdout",
          "output_type": "stream",
          "text": [
            "Digite o 1° número: 1\n",
            "Digite o 2° número: 2\n",
            "Digite o 3° número: 3\n",
            "Digite o 4° número: 4\n",
            "Digite o 5° número: 5\n",
            "A soma dos números pares é: 6\n",
            "A soma dos números impares é: 9\n"
          ]
        }
      ],
      "source": [
        "numeros = []\n",
        "impares = []\n",
        "pares = []\n",
        "\n",
        "for i in range(1, 6):\n",
        "  num = int(input(f\"Digite o {i}° número: \"))\n",
        "\n",
        "  if num % 2 == 0:\n",
        "    pares.append(num)\n",
        "  else:\n",
        "    impares.append(num)\n",
        "\n",
        "somai = sum(impares)\n",
        "somap = sum(pares)\n",
        "\n",
        "print(f\"A soma dos números pares é: {somap}\")\n",
        "print(f\"A soma dos números impares é: {somai}\")"
      ]
    },
    {
      "cell_type": "markdown",
      "metadata": {
        "id": "xf2fUuao3vNO"
      },
      "source": [
        "Exercício 19"
      ]
    },
    {
      "cell_type": "markdown",
      "metadata": {
        "id": "-L89efUJ32Pz"
      },
      "source": [
        "Faça um programa que receba duas notas de seis alunos. Calcule e mostre:\n",
        "* A média aritmética das duas notas de cada aluno;\n",
        "* A mensagem sobre sua situação;\n",
        "* O total de alunos aprovados;\n",
        "* O total de alunos de exame;\n",
        "* O total de alunos reprovados;\n",
        "* A média da classe.\n",
        "\n",
        "\n"
      ]
    },
    {
      "cell_type": "code",
      "execution_count": null,
      "metadata": {
        "colab": {
          "base_uri": "https://localhost:8080/"
        },
        "id": "icVRHSgC337c",
        "outputId": "3bdc77f7-4e5a-4795-a42c-0032a6b33844"
      },
      "outputs": [
        {
          "name": "stdout",
          "output_type": "stream",
          "text": [
            "Digite quantos alunos deseja adicionar ao sistema: 6\n",
            "Qual o nome do 1° aluno(a)? Lucas\n",
            "Qual a primeira nota do(a) Lucas: 10\n",
            "Qual a segunda nota do(a) Lucas: 10\n",
            "Qual o nome do 2° aluno(a)? Lindalva\n",
            "Qual a primeira nota do(a) Lindalva: 7\n",
            "Qual a segunda nota do(a) Lindalva: 8\n",
            "Qual o nome do 3° aluno(a)? Sandro\n",
            "Qual a primeira nota do(a) Sandro: 19\n",
            "Qual a segunda nota do(a) Sandro: 0\n",
            "Qual o nome do 4° aluno(a)? Jessica\n",
            "Qual a primeira nota do(a) Jessica: 5\n",
            "Qual a segunda nota do(a) Jessica: 4\n",
            "Qual o nome do 5° aluno(a)? Mguel\n",
            "Qual a primeira nota do(a) Mguel: 5\n",
            "Qual a segunda nota do(a) Mguel: 5\n",
            "Qual o nome do 6° aluno(a)? Milena\n",
            "Qual a primeira nota do(a) Milena: 4\n",
            "Qual a segunda nota do(a) Milena: 8\n",
            "O aluno Lucas teve como média 10.0 e sua situação final será: Aprovado\n",
            "O aluno Lindalva teve como média 7.5 e sua situação final será: Aprovado\n",
            "O aluno Sandro teve como média 9.5 e sua situação final será: Aprovado\n",
            "O aluno Jessica teve como média 4.5 e sua situação final será: Exame\n",
            "O aluno Mguel teve como média 5.0 e sua situação final será: Exame\n",
            "O aluno Milena teve como média 6.0 e sua situação final será: Exame\n",
            "A média geral da turma foi de: 7.083333333333333\n",
            "Quantidade de alunos que estão reprovado: 0\n",
            "Quantidade de alunos que estão em exame: 3\n",
            "Quantidade de alunos que estão aprovado: 3\n"
          ]
        }
      ],
      "source": [
        "NomesAlunos = []\n",
        "MediaAlunos = []\n",
        "SituacaoAlunos = []\n",
        "\n",
        "QuantAlunos = int(input(\"Digite quantos alunos deseja adicionar ao sistema: \"))\n",
        "\n",
        "for i in range(QuantAlunos):\n",
        "  nome = str(input(f\"Qual o nome do {i+1}° aluno(a)? \"))\n",
        "  NomesAlunos.append(nome)\n",
        "  nota1 = float(input(f\"Qual a primeira nota do(a) {nome}: \"))\n",
        "  nota2 = float(input(f\"Qual a segunda nota do(a) {nome}: \"))\n",
        "  media = (nota1 + nota2) / 2\n",
        "  MediaAlunos.append(media)\n",
        "\n",
        "  if media <= 3:\n",
        "    SituacaoAlunos.append(\"Reprovado\")\n",
        "  elif 3 < media < 7:\n",
        "      SituacaoAlunos.append(\"Exame\")\n",
        "  else:\n",
        "     SituacaoAlunos.append(\"Aprovado\")\n",
        "\n",
        "\n",
        "for i in range(QuantAlunos):\n",
        "  print(f\"O aluno {NomesAlunos[i]} teve como média {MediaAlunos[i]} e sua situação final será: {SituacaoAlunos[i]}\")\n",
        "\n",
        "print(f\"A média geral da turma foi de: {sum(MediaAlunos)/QuantAlunos}\")\n",
        "\n",
        "\n",
        "print(f\"Quantidade de alunos que estão reprovado: {SituacaoAlunos.count('Reprovado')}\")\n",
        "\n",
        "print(f\"Quantidade de alunos que estão em exame: {SituacaoAlunos.count('Exame')}\")\n",
        "\n",
        "print(f\"Quantidade de alunos que estão aprovado: {SituacaoAlunos.count('Aprovado')}\")\n"
      ]
    },
    {
      "cell_type": "markdown",
      "metadata": {
        "id": "rTVwjskQshI5"
      },
      "source": [
        "Exercício 20"
      ]
    },
    {
      "cell_type": "markdown",
      "metadata": {
        "id": "rK3W-hQVsf4h"
      },
      "source": [
        "Faça um programa para calcular a área de um triangulo e que não permita a entrada\n",
        "de dados inválidos. O programa deve receber “S” para continuar calculando e “N” para\n",
        "sair do programa."
      ]
    },
    {
      "cell_type": "code",
      "execution_count": null,
      "metadata": {
        "colab": {
          "base_uri": "https://localhost:8080/",
          "height": 356
        },
        "id": "nL31UafI2KVf",
        "outputId": "a421a03f-3330-43d2-9fe8-3f44909a8805"
      },
      "outputs": [
        {
          "ename": "KeyboardInterrupt",
          "evalue": "Interrupted by user",
          "output_type": "error",
          "traceback": [
            "\u001b[0;31m---------------------------------------------------------------------------\u001b[0m",
            "\u001b[0;31mKeyboardInterrupt\u001b[0m                         Traceback (most recent call last)",
            "\u001b[0;32m<ipython-input-46-d6191762d85a>\u001b[0m in \u001b[0;36m<cell line: 0>\u001b[0;34m()\u001b[0m\n\u001b[1;32m      1\u001b[0m \u001b[0;32mwhile\u001b[0m \u001b[0;32mTrue\u001b[0m\u001b[0;34m:\u001b[0m\u001b[0;34m\u001b[0m\u001b[0;34m\u001b[0m\u001b[0m\n\u001b[1;32m      2\u001b[0m \u001b[0;34m\u001b[0m\u001b[0m\n\u001b[0;32m----> 3\u001b[0;31m     \u001b[0mbase\u001b[0m \u001b[0;34m=\u001b[0m \u001b[0mfloat\u001b[0m\u001b[0;34m(\u001b[0m\u001b[0minput\u001b[0m\u001b[0;34m(\u001b[0m\u001b[0;34m\"Digite a base do triângulo: \"\u001b[0m\u001b[0;34m)\u001b[0m\u001b[0;34m)\u001b[0m\u001b[0;34m\u001b[0m\u001b[0;34m\u001b[0m\u001b[0m\n\u001b[0m\u001b[1;32m      4\u001b[0m     \u001b[0maltura\u001b[0m \u001b[0;34m=\u001b[0m \u001b[0mfloat\u001b[0m\u001b[0;34m(\u001b[0m\u001b[0minput\u001b[0m\u001b[0;34m(\u001b[0m\u001b[0;34m\"Digite a altura do triângulo: \"\u001b[0m\u001b[0;34m)\u001b[0m\u001b[0;34m)\u001b[0m\u001b[0;34m\u001b[0m\u001b[0;34m\u001b[0m\u001b[0m\n\u001b[1;32m      5\u001b[0m \u001b[0;34m\u001b[0m\u001b[0m\n",
            "\u001b[0;32m/usr/local/lib/python3.11/dist-packages/ipykernel/kernelbase.py\u001b[0m in \u001b[0;36mraw_input\u001b[0;34m(self, prompt)\u001b[0m\n\u001b[1;32m   1175\u001b[0m                 \u001b[0;34m\"raw_input was called, but this frontend does not support input requests.\"\u001b[0m\u001b[0;34m\u001b[0m\u001b[0;34m\u001b[0m\u001b[0m\n\u001b[1;32m   1176\u001b[0m             )\n\u001b[0;32m-> 1177\u001b[0;31m         return self._input_request(\n\u001b[0m\u001b[1;32m   1178\u001b[0m             \u001b[0mstr\u001b[0m\u001b[0;34m(\u001b[0m\u001b[0mprompt\u001b[0m\u001b[0;34m)\u001b[0m\u001b[0;34m,\u001b[0m\u001b[0;34m\u001b[0m\u001b[0;34m\u001b[0m\u001b[0m\n\u001b[1;32m   1179\u001b[0m             \u001b[0mself\u001b[0m\u001b[0;34m.\u001b[0m\u001b[0m_parent_ident\u001b[0m\u001b[0;34m[\u001b[0m\u001b[0;34m\"shell\"\u001b[0m\u001b[0;34m]\u001b[0m\u001b[0;34m,\u001b[0m\u001b[0;34m\u001b[0m\u001b[0;34m\u001b[0m\u001b[0m\n",
            "\u001b[0;32m/usr/local/lib/python3.11/dist-packages/ipykernel/kernelbase.py\u001b[0m in \u001b[0;36m_input_request\u001b[0;34m(self, prompt, ident, parent, password)\u001b[0m\n\u001b[1;32m   1217\u001b[0m             \u001b[0;32mexcept\u001b[0m \u001b[0mKeyboardInterrupt\u001b[0m\u001b[0;34m:\u001b[0m\u001b[0;34m\u001b[0m\u001b[0;34m\u001b[0m\u001b[0m\n\u001b[1;32m   1218\u001b[0m                 \u001b[0;31m# re-raise KeyboardInterrupt, to truncate traceback\u001b[0m\u001b[0;34m\u001b[0m\u001b[0;34m\u001b[0m\u001b[0m\n\u001b[0;32m-> 1219\u001b[0;31m                 \u001b[0;32mraise\u001b[0m \u001b[0mKeyboardInterrupt\u001b[0m\u001b[0;34m(\u001b[0m\u001b[0;34m\"Interrupted by user\"\u001b[0m\u001b[0;34m)\u001b[0m \u001b[0;32mfrom\u001b[0m \u001b[0;32mNone\u001b[0m\u001b[0;34m\u001b[0m\u001b[0;34m\u001b[0m\u001b[0m\n\u001b[0m\u001b[1;32m   1220\u001b[0m             \u001b[0;32mexcept\u001b[0m \u001b[0mException\u001b[0m\u001b[0;34m:\u001b[0m\u001b[0;34m\u001b[0m\u001b[0;34m\u001b[0m\u001b[0m\n\u001b[1;32m   1221\u001b[0m                 \u001b[0mself\u001b[0m\u001b[0;34m.\u001b[0m\u001b[0mlog\u001b[0m\u001b[0;34m.\u001b[0m\u001b[0mwarning\u001b[0m\u001b[0;34m(\u001b[0m\u001b[0;34m\"Invalid Message:\"\u001b[0m\u001b[0;34m,\u001b[0m \u001b[0mexc_info\u001b[0m\u001b[0;34m=\u001b[0m\u001b[0;32mTrue\u001b[0m\u001b[0;34m)\u001b[0m\u001b[0;34m\u001b[0m\u001b[0;34m\u001b[0m\u001b[0m\n",
            "\u001b[0;31mKeyboardInterrupt\u001b[0m: Interrupted by user"
          ]
        }
      ],
      "source": [
        "while True:\n",
        "\n",
        "    base = float(input(\"Digite a base do triângulo: \"))\n",
        "    altura = float(input(\"Digite a altura do triângulo: \"))\n",
        "\n",
        "    area = (base * altura) / 2\n",
        "    print(f\"A área do triângulo é: {area:.2f} unidades quadradas.\")\n",
        "\n",
        "\n",
        "    continuar = input(\"Deseja calcular a área de outro triângulo? (S para continuar, N para sair): \").strip().upper()\n",
        "    if continuar != \"S\":\n",
        "        print(\"Saindo do programa...\")\n",
        "        break\n"
      ]
    },
    {
      "cell_type": "markdown",
      "metadata": {
        "id": "RoTva6YKgTEs"
      },
      "source": [
        "Exercício 21"
      ]
    },
    {
      "cell_type": "markdown",
      "metadata": {
        "id": "R3NPXP8g2a8u"
      },
      "source": [
        "Faça um programa que receba 10 números, calcule e mostre:\n",
        "\n",
        "* A soma dos números digitados;\n",
        "* A quantidade de números digitados;\n",
        "* A média dos números digitados;\n",
        "* O maior número digitado;\n",
        "* O menor número digitado;\n",
        "* A média dos números pares;\n",
        "* A porcentagem dos números ímpares entre todos os números digitados.\n",
        "\n",
        "Finalize a entrada de dados com a digitação do número 30.000."
      ]
    },
    {
      "cell_type": "code",
      "execution_count": null,
      "metadata": {
        "colab": {
          "base_uri": "https://localhost:8080/"
        },
        "id": "pLpJv2lw3BPA",
        "outputId": "49313b02-a936-4d6d-d771-d382c2cb52d6"
      },
      "outputs": [
        {
          "name": "stdout",
          "output_type": "stream",
          "text": [
            "Digite quantos números deseja efetuar esse processo: 6\n",
            "Digite o 1° número: 1\n",
            "Digite o 2° número: 2\n",
            "Digite o 3° número: 3\n",
            "Digite o 4° número: 4\n",
            "Digite o 5° número: 5\n",
            "Digite o 6° número: 6\n",
            "A soma dos números digitados é: 21\n",
            "A quantidade de números digitados é: 6\n",
            "A média dos números digitados é: 3.5\n",
            "O maior número digitado é: 6\n",
            "O menor número digitado é: 1\n",
            "A média dos números pares é: 4.0\n",
            "A porcentagem dos números ímpares entre todos os números digitados é: 50.0%\n"
          ]
        }
      ],
      "source": [
        "somaNum = []\n",
        "listaP = []\n",
        "listaI = []\n",
        "\n",
        "qnt = int(input(\"Digite quantos números deseja efetuar esse processo: \"))\n",
        "\n",
        "for i in range(1, qnt+1):\n",
        "  num = int(input(f\"Digite o {i}° número: \"))\n",
        "  somaNum.append(num)\n",
        "  if num % 2 == 0:\n",
        "    listaP.append(num)\n",
        "  else:\n",
        "    listaI.append(num)\n",
        "\n",
        "\n",
        "\n",
        "print(f\"A soma dos números digitados é: {sum(somaNum)}\")\n",
        "print(f\"A quantidade de números digitados é: {qnt}\")\n",
        "print(f\"A média dos números digitados é: {sum(somaNum)/qnt}\")\n",
        "print(f\"O maior número digitado é: {max(somaNum)}\")\n",
        "print(f\"O menor número digitado é: {min(somaNum)}\")\n",
        "print(f\"A média dos números pares é: {sum(listaP) / len(listaP)}\")\n",
        "print(f\"A porcentagem dos números ímpares entre todos os números digitados é: {(len(listaI) / qnt) * 100}%\")\n"
      ]
    },
    {
      "cell_type": "markdown",
      "metadata": {
        "id": "mtSUwJFoi4KL"
      },
      "source": [
        "Exercício 22"
      ]
    },
    {
      "cell_type": "markdown",
      "metadata": {
        "id": "30B2bteyi68R"
      },
      "source": [
        "Um funcionário de uma empresa recebe, anualmente, aumento salarial. Sabe-se que:\n",
        "* a. Esse funcionário foi contratado em 2005, com salário inicial de R$ 1000,00;\n",
        "* b. Em 2006, ele recebeu aumento de 1,5% sobre seu salário inicial.\n",
        "* c. A partir de 2007 (inclusive), os aumentos salariais sempre corresponderam ao dobro\n",
        "do percentual do ano anterior."
      ]
    },
    {
      "cell_type": "code",
      "execution_count": null,
      "metadata": {
        "colab": {
          "base_uri": "https://localhost:8080/"
        },
        "id": "p-8bCB1fmnhs",
        "outputId": "aab44365-4461-4212-e2d1-627a411f4b34"
      },
      "outputs": [
        {
          "name": "stdout",
          "output_type": "stream",
          "text": [
            "No ano de 2006 o salario foi de: 1015.0\n",
            "No ano de 2007 o salario foi de: 1030.0\n",
            "No ano de 2008 o salario foi de: 1045.0\n",
            "No ano de 2009 o salario foi de: 1060.0\n",
            "No ano de 20010 o salario foi de: 1075.0\n",
            "No ano de 20011 o salario foi de: 1090.0\n",
            "No ano de 20012 o salario foi de: 1105.0\n",
            "No ano de 20013 o salario foi de: 1120.0\n",
            "No ano de 20014 o salario foi de: 1135.0\n",
            "No ano de 20015 o salario foi de: 1150.0\n",
            "No ano de 20016 o salario foi de: 1165.0\n",
            "No ano de 20017 o salario foi de: 1180.0\n",
            "No ano de 20018 o salario foi de: 1195.0\n",
            "No ano de 20019 o salario foi de: 1210.0\n",
            "No ano de 20020 o salario foi de: 1225.0\n",
            "No ano de 20021 o salario foi de: 1240.0\n",
            "No ano de 20022 o salario foi de: 1255.0\n",
            "No ano de 20023 o salario foi de: 1270.0\n",
            "No ano de 20024 o salario foi de: 1285.0\n",
            "No ano de 20025 o salario foi de: 1300.0\n"
          ]
        }
      ],
      "source": [
        "salarioInicial = 1000\n",
        "aumento = 0.015\n",
        "salarioNovo = salarioInicial\n",
        "\n",
        "for i in range(6, 26):\n",
        "  aumentoNovo = salarioInicial * aumento\n",
        "  salarioNovo += aumentoNovo\n",
        "  print(f\"No ano de 200{i} o salario foi de: {salarioNovo}\")"
      ]
    },
    {
      "cell_type": "markdown",
      "metadata": {
        "id": "VuP49Wuqso-B"
      },
      "source": [
        "Exercício 23"
      ]
    },
    {
      "cell_type": "markdown",
      "metadata": {
        "id": "dSDU_h5isq8B"
      },
      "source": [
        "Cada espectador de um cinema respondeu a um questionário no qual constava sua\n",
        "idade e sua opinião em relação ao filme:\n",
        "\n",
        "* 1 – Regular.\n",
        "* 2 – Bom;\n",
        "* 3 - Ótimo;\n",
        "\n",
        "Faça um programa que receba a idade e a opinião de 15 espectadores, calcule e mostre:\n",
        "* A média da idade das pessoas que responderam ótimo;\n",
        "* A quantidade de pessoas que responderam regular;\n",
        "* A porcentagem de pessoas que responderam Bom, entre todos os\n",
        "espectadores analisados."
      ]
    },
    {
      "cell_type": "code",
      "execution_count": null,
      "metadata": {
        "colab": {
          "base_uri": "https://localhost:8080/",
          "height": 356
        },
        "id": "XSPWLAABtQmC",
        "outputId": "295469bc-6610-4363-95e6-c47837b45312"
      },
      "outputs": [
        {
          "ename": "KeyboardInterrupt",
          "evalue": "Interrupted by user",
          "output_type": "error",
          "traceback": [
            "\u001b[0;31m---------------------------------------------------------------------------\u001b[0m",
            "\u001b[0;31mKeyboardInterrupt\u001b[0m                         Traceback (most recent call last)",
            "\u001b[0;32m<ipython-input-32-e3113e7e9921>\u001b[0m in \u001b[0;36m<cell line: 0>\u001b[0;34m()\u001b[0m\n\u001b[1;32m      5\u001b[0m \u001b[0;32mfor\u001b[0m \u001b[0mi\u001b[0m \u001b[0;32min\u001b[0m \u001b[0mrange\u001b[0m\u001b[0;34m(\u001b[0m\u001b[0;36m15\u001b[0m\u001b[0;34m)\u001b[0m\u001b[0;34m:\u001b[0m\u001b[0;34m\u001b[0m\u001b[0;34m\u001b[0m\u001b[0m\n\u001b[1;32m      6\u001b[0m   \u001b[0midade\u001b[0m \u001b[0;34m=\u001b[0m \u001b[0mint\u001b[0m\u001b[0;34m(\u001b[0m\u001b[0minput\u001b[0m\u001b[0;34m(\u001b[0m\u001b[0;34m\"Digite sua idade: \"\u001b[0m\u001b[0;34m)\u001b[0m\u001b[0;34m)\u001b[0m\u001b[0;34m\u001b[0m\u001b[0;34m\u001b[0m\u001b[0m\n\u001b[0;32m----> 7\u001b[0;31m   \u001b[0mopn\u001b[0m   \u001b[0;34m=\u001b[0m \u001b[0mint\u001b[0m\u001b[0;34m(\u001b[0m\u001b[0minput\u001b[0m\u001b[0;34m(\u001b[0m\u001b[0;34m\"Qual sua opinião em relação ao filme? 1 – Regular. 2 – Bom; 3 - Ótimo; \"\u001b[0m\u001b[0;34m)\u001b[0m\u001b[0;34m)\u001b[0m\u001b[0;34m\u001b[0m\u001b[0;34m\u001b[0m\u001b[0m\n\u001b[0m\u001b[1;32m      8\u001b[0m \u001b[0;34m\u001b[0m\u001b[0m\n\u001b[1;32m      9\u001b[0m   \u001b[0;32mif\u001b[0m \u001b[0mopn\u001b[0m \u001b[0;34m==\u001b[0m \u001b[0;36m1\u001b[0m\u001b[0;34m:\u001b[0m\u001b[0;34m\u001b[0m\u001b[0;34m\u001b[0m\u001b[0m\n",
            "\u001b[0;32m/usr/local/lib/python3.11/dist-packages/ipykernel/kernelbase.py\u001b[0m in \u001b[0;36mraw_input\u001b[0;34m(self, prompt)\u001b[0m\n\u001b[1;32m   1175\u001b[0m                 \u001b[0;34m\"raw_input was called, but this frontend does not support input requests.\"\u001b[0m\u001b[0;34m\u001b[0m\u001b[0;34m\u001b[0m\u001b[0m\n\u001b[1;32m   1176\u001b[0m             )\n\u001b[0;32m-> 1177\u001b[0;31m         return self._input_request(\n\u001b[0m\u001b[1;32m   1178\u001b[0m             \u001b[0mstr\u001b[0m\u001b[0;34m(\u001b[0m\u001b[0mprompt\u001b[0m\u001b[0;34m)\u001b[0m\u001b[0;34m,\u001b[0m\u001b[0;34m\u001b[0m\u001b[0;34m\u001b[0m\u001b[0m\n\u001b[1;32m   1179\u001b[0m             \u001b[0mself\u001b[0m\u001b[0;34m.\u001b[0m\u001b[0m_parent_ident\u001b[0m\u001b[0;34m[\u001b[0m\u001b[0;34m\"shell\"\u001b[0m\u001b[0;34m]\u001b[0m\u001b[0;34m,\u001b[0m\u001b[0;34m\u001b[0m\u001b[0;34m\u001b[0m\u001b[0m\n",
            "\u001b[0;32m/usr/local/lib/python3.11/dist-packages/ipykernel/kernelbase.py\u001b[0m in \u001b[0;36m_input_request\u001b[0;34m(self, prompt, ident, parent, password)\u001b[0m\n\u001b[1;32m   1217\u001b[0m             \u001b[0;32mexcept\u001b[0m \u001b[0mKeyboardInterrupt\u001b[0m\u001b[0;34m:\u001b[0m\u001b[0;34m\u001b[0m\u001b[0;34m\u001b[0m\u001b[0m\n\u001b[1;32m   1218\u001b[0m                 \u001b[0;31m# re-raise KeyboardInterrupt, to truncate traceback\u001b[0m\u001b[0;34m\u001b[0m\u001b[0;34m\u001b[0m\u001b[0m\n\u001b[0;32m-> 1219\u001b[0;31m                 \u001b[0;32mraise\u001b[0m \u001b[0mKeyboardInterrupt\u001b[0m\u001b[0;34m(\u001b[0m\u001b[0;34m\"Interrupted by user\"\u001b[0m\u001b[0;34m)\u001b[0m \u001b[0;32mfrom\u001b[0m \u001b[0;32mNone\u001b[0m\u001b[0;34m\u001b[0m\u001b[0;34m\u001b[0m\u001b[0m\n\u001b[0m\u001b[1;32m   1220\u001b[0m             \u001b[0;32mexcept\u001b[0m \u001b[0mException\u001b[0m\u001b[0;34m:\u001b[0m\u001b[0;34m\u001b[0m\u001b[0;34m\u001b[0m\u001b[0m\n\u001b[1;32m   1221\u001b[0m                 \u001b[0mself\u001b[0m\u001b[0;34m.\u001b[0m\u001b[0mlog\u001b[0m\u001b[0;34m.\u001b[0m\u001b[0mwarning\u001b[0m\u001b[0;34m(\u001b[0m\u001b[0;34m\"Invalid Message:\"\u001b[0m\u001b[0;34m,\u001b[0m \u001b[0mexc_info\u001b[0m\u001b[0;34m=\u001b[0m\u001b[0;32mTrue\u001b[0m\u001b[0;34m)\u001b[0m\u001b[0;34m\u001b[0m\u001b[0;34m\u001b[0m\u001b[0m\n",
            "\u001b[0;31mKeyboardInterrupt\u001b[0m: Interrupted by user"
          ]
        }
      ],
      "source": [
        "regular = []\n",
        "bom = []\n",
        "otimo = []\n",
        "\n",
        "for i in range(15):\n",
        "  idade = int(input(\"Digite sua idade: \"))\n",
        "  opn   = int(input(\"Qual sua opinião em relação ao filme? 1 – Regular. 2 – Bom; 3 - Ótimo; \"))\n",
        "\n",
        "  if opn == 1:\n",
        "    regular.append(idade)\n",
        "  elif opn == 2:\n",
        "    bom.append(idade)\n",
        "  elif opn == 3:\n",
        "    otimo.append(idade)\n",
        "  else:\n",
        "    print(\"Opção inválida\")\n",
        "\n",
        "\n",
        "print(f\"A média da idade das pessoas que responderam ótimo: {sum(otimo)/len(otimo)}\")\n",
        "print(f\"A quantidade de pessoas que responderam regular: {len(regular)}\")\n",
        "print(f\"A porcentagem de pessoas que responderam Bom: {(bom/15) * 100}\")\n"
      ]
    },
    {
      "cell_type": "markdown",
      "metadata": {
        "id": "Pf7dcfSwyxXB"
      },
      "source": [
        "Exercicio 24"
      ]
    },
    {
      "cell_type": "markdown",
      "metadata": {
        "id": "SL0FgaEZy1AT"
      },
      "source": [
        "Faça um programa que calcule as quatro operações básicas da matemática, entre dois\n",
        "números, até que o usuário digite 30.000."
      ]
    },
    {
      "cell_type": "code",
      "execution_count": null,
      "metadata": {
        "colab": {
          "base_uri": "https://localhost:8080/",
          "height": 1000
        },
        "id": "nrXIMXgZy0QE",
        "outputId": "f91f6563-6b4a-4c28-8f1c-b3cc9c685f19"
      },
      "outputs": [
        {
          "name": "stdout",
          "output_type": "stream",
          "text": [
            "Digite dois números e descubra a tabuada correspondente a todos os números dentro desse intervalo.\n",
            "Tabuada do 1\n",
            "1 x 1 = 1\n",
            "1 x 2 = 2\n",
            "1 x 3 = 3\n",
            "1 x 4 = 4\n",
            "1 x 5 = 5\n",
            "1 x 6 = 6\n",
            "1 x 7 = 7\n",
            "1 x 8 = 8\n",
            "1 x 9 = 9\n",
            "1 x 10 = 10\n",
            "Tabuada do 2\n",
            "2 x 1 = 2\n",
            "2 x 2 = 4\n",
            "2 x 3 = 6\n",
            "2 x 4 = 8\n",
            "2 x 5 = 10\n",
            "2 x 6 = 12\n",
            "2 x 7 = 14\n",
            "2 x 8 = 16\n",
            "2 x 9 = 18\n",
            "2 x 10 = 20\n",
            "Tabuada do 3\n",
            "3 x 1 = 3\n",
            "3 x 2 = 6\n",
            "3 x 3 = 9\n",
            "3 x 4 = 12\n",
            "3 x 5 = 15\n",
            "3 x 6 = 18\n",
            "3 x 7 = 21\n",
            "3 x 8 = 24\n",
            "3 x 9 = 27\n",
            "3 x 10 = 30\n",
            "Tabuada do 4\n",
            "4 x 1 = 4\n",
            "4 x 2 = 8\n",
            "4 x 3 = 12\n",
            "4 x 4 = 16\n",
            "4 x 5 = 20\n",
            "4 x 6 = 24\n",
            "4 x 7 = 28\n",
            "4 x 8 = 32\n",
            "4 x 9 = 36\n",
            "4 x 10 = 40\n",
            "Digite dois números e descubra a tabuada correspondente a todos os números dentro desse intervalo.\n"
          ]
        },
        {
          "ename": "KeyboardInterrupt",
          "evalue": "Interrupted by user",
          "output_type": "error",
          "traceback": [
            "\u001b[0;31m---------------------------------------------------------------------------\u001b[0m",
            "\u001b[0;31mKeyboardInterrupt\u001b[0m                         Traceback (most recent call last)",
            "\u001b[0;32m<ipython-input-38-235c486dc199>\u001b[0m in \u001b[0;36m<cell line: 0>\u001b[0;34m()\u001b[0m\n\u001b[1;32m      1\u001b[0m \u001b[0;32mwhile\u001b[0m \u001b[0;32mTrue\u001b[0m\u001b[0;34m:\u001b[0m\u001b[0;34m\u001b[0m\u001b[0;34m\u001b[0m\u001b[0m\n\u001b[1;32m      2\u001b[0m   \u001b[0mprint\u001b[0m\u001b[0;34m(\u001b[0m\u001b[0;34m\"Digite dois números e descubra a tabuada correspondente a todos os números dentro desse intervalo.\"\u001b[0m\u001b[0;34m)\u001b[0m\u001b[0;34m\u001b[0m\u001b[0;34m\u001b[0m\u001b[0m\n\u001b[0;32m----> 3\u001b[0;31m   \u001b[0mnum1\u001b[0m \u001b[0;34m=\u001b[0m \u001b[0mint\u001b[0m\u001b[0;34m(\u001b[0m\u001b[0minput\u001b[0m\u001b[0;34m(\u001b[0m\u001b[0;34m\"Primeiro número: \"\u001b[0m\u001b[0;34m)\u001b[0m\u001b[0;34m)\u001b[0m\u001b[0;34m\u001b[0m\u001b[0;34m\u001b[0m\u001b[0m\n\u001b[0m\u001b[1;32m      4\u001b[0m   \u001b[0mnum2\u001b[0m \u001b[0;34m=\u001b[0m \u001b[0mint\u001b[0m\u001b[0;34m(\u001b[0m\u001b[0minput\u001b[0m\u001b[0;34m(\u001b[0m\u001b[0;34m\"Segundo número: \"\u001b[0m\u001b[0;34m)\u001b[0m\u001b[0;34m)\u001b[0m\u001b[0;34m\u001b[0m\u001b[0;34m\u001b[0m\u001b[0m\n\u001b[1;32m      5\u001b[0m \u001b[0;34m\u001b[0m\u001b[0m\n",
            "\u001b[0;32m/usr/local/lib/python3.11/dist-packages/ipykernel/kernelbase.py\u001b[0m in \u001b[0;36mraw_input\u001b[0;34m(self, prompt)\u001b[0m\n\u001b[1;32m   1175\u001b[0m                 \u001b[0;34m\"raw_input was called, but this frontend does not support input requests.\"\u001b[0m\u001b[0;34m\u001b[0m\u001b[0;34m\u001b[0m\u001b[0m\n\u001b[1;32m   1176\u001b[0m             )\n\u001b[0;32m-> 1177\u001b[0;31m         return self._input_request(\n\u001b[0m\u001b[1;32m   1178\u001b[0m             \u001b[0mstr\u001b[0m\u001b[0;34m(\u001b[0m\u001b[0mprompt\u001b[0m\u001b[0;34m)\u001b[0m\u001b[0;34m,\u001b[0m\u001b[0;34m\u001b[0m\u001b[0;34m\u001b[0m\u001b[0m\n\u001b[1;32m   1179\u001b[0m             \u001b[0mself\u001b[0m\u001b[0;34m.\u001b[0m\u001b[0m_parent_ident\u001b[0m\u001b[0;34m[\u001b[0m\u001b[0;34m\"shell\"\u001b[0m\u001b[0;34m]\u001b[0m\u001b[0;34m,\u001b[0m\u001b[0;34m\u001b[0m\u001b[0;34m\u001b[0m\u001b[0m\n",
            "\u001b[0;32m/usr/local/lib/python3.11/dist-packages/ipykernel/kernelbase.py\u001b[0m in \u001b[0;36m_input_request\u001b[0;34m(self, prompt, ident, parent, password)\u001b[0m\n\u001b[1;32m   1217\u001b[0m             \u001b[0;32mexcept\u001b[0m \u001b[0mKeyboardInterrupt\u001b[0m\u001b[0;34m:\u001b[0m\u001b[0;34m\u001b[0m\u001b[0;34m\u001b[0m\u001b[0m\n\u001b[1;32m   1218\u001b[0m                 \u001b[0;31m# re-raise KeyboardInterrupt, to truncate traceback\u001b[0m\u001b[0;34m\u001b[0m\u001b[0;34m\u001b[0m\u001b[0m\n\u001b[0;32m-> 1219\u001b[0;31m                 \u001b[0;32mraise\u001b[0m \u001b[0mKeyboardInterrupt\u001b[0m\u001b[0;34m(\u001b[0m\u001b[0;34m\"Interrupted by user\"\u001b[0m\u001b[0;34m)\u001b[0m \u001b[0;32mfrom\u001b[0m \u001b[0;32mNone\u001b[0m\u001b[0;34m\u001b[0m\u001b[0;34m\u001b[0m\u001b[0m\n\u001b[0m\u001b[1;32m   1220\u001b[0m             \u001b[0;32mexcept\u001b[0m \u001b[0mException\u001b[0m\u001b[0;34m:\u001b[0m\u001b[0;34m\u001b[0m\u001b[0;34m\u001b[0m\u001b[0m\n\u001b[1;32m   1221\u001b[0m                 \u001b[0mself\u001b[0m\u001b[0;34m.\u001b[0m\u001b[0mlog\u001b[0m\u001b[0;34m.\u001b[0m\u001b[0mwarning\u001b[0m\u001b[0;34m(\u001b[0m\u001b[0;34m\"Invalid Message:\"\u001b[0m\u001b[0;34m,\u001b[0m \u001b[0mexc_info\u001b[0m\u001b[0;34m=\u001b[0m\u001b[0;32mTrue\u001b[0m\u001b[0;34m)\u001b[0m\u001b[0;34m\u001b[0m\u001b[0;34m\u001b[0m\u001b[0m\n",
            "\u001b[0;31mKeyboardInterrupt\u001b[0m: Interrupted by user"
          ]
        }
      ],
      "source": [
        "while True:\n",
        "  print(\"Digite dois números e descubra a tabuada correspondente a todos os números dentro desse intervalo.\")\n",
        "  num1 = int(input(\"Primeiro número: \"))\n",
        "  num2 = int(input(\"Segundo número: \"))\n",
        "\n",
        "  for i in range(num1, num2+1):\n",
        "    print(f\"Tabuada do {i}\")\n",
        "    for j in range(1, 11):\n",
        "      print(f\"{i} x {j} = {i*j}\")\n",
        "\n",
        "  cont = int(input(\"Digite 30000 para interromper o processo. Caso contrário, ele continuará se repetindo. \"))\n",
        "  if cont == 30000:\n",
        "    break\n",
        "\n"
      ]
    },
    {
      "cell_type": "markdown",
      "metadata": {
        "id": "6EAXMAtZAP8h"
      },
      "source": [
        "Exercício 25"
      ]
    },
    {
      "cell_type": "markdown",
      "metadata": {
        "id": "wOEJmKqxASA2"
      },
      "source": [
        "Abaixo temos a famosa sequência.\n",
        "1, 1, 2, 3, 5, 8, 13, 21, 34....\n",
        "Encontre a lógica utilizada nesta parte de sequência e desenvolva um algoritmo capaz\n",
        "de reproduzir as 30 primeiras ocorrências desta sequência."
      ]
    },
    {
      "cell_type": "code",
      "execution_count": null,
      "metadata": {
        "colab": {
          "base_uri": "https://localhost:8080/"
        },
        "id": "VsE5hnIyHa_e",
        "outputId": "bcc23523-4624-413d-b01d-cc5e8552aea9"
      },
      "outputs": [
        {
          "name": "stdout",
          "output_type": "stream",
          "text": [
            "[1, 1, 2, 3, 5, 8, 13, 21, 34, 55, 89, 144, 233, 377, 610, 987, 1597, 2584, 4181, 6765, 10946, 17711, 28657, 46368, 75025, 121393, 196418, 317811, 514229, 832040]\n"
          ]
        }
      ],
      "source": [
        "listaInicial = [1, 1]\n",
        "\n",
        "for i in range(2, 31):\n",
        "  numNovo = listaInicial[-1] + listaInicial[-2]\n",
        "  listaInicial.append(numNovo)\n",
        "\n",
        "print(listaInicial)"
      ]
    },
    {
      "cell_type": "markdown",
      "metadata": {
        "id": "-ENyNVLCLXTz"
      },
      "source": [
        "Exercício *26*"
      ]
    },
    {
      "cell_type": "markdown",
      "metadata": {
        "id": "Us2dAiqZLbeg"
      },
      "source": [
        "Baseando-se no exercício anterior, crie um algoritmo que receba o valor da n-zima\n",
        "posição de uma sequência de Fibonacci e imprima o seu valor."
      ]
    },
    {
      "cell_type": "code",
      "execution_count": null,
      "metadata": {
        "colab": {
          "base_uri": "https://localhost:8080/"
        },
        "id": "sIptEXHcy_BO",
        "outputId": "9cd7cbe8-6e16-4495-ec50-611686802bc7"
      },
      "outputs": [
        {
          "name": "stdout",
          "output_type": "stream",
          "text": [
            "Digite a posição n da sequência de Fibonacci: 6\n",
            "O numero que aparece na posição 6 da sequência de Fibonacci é: [8]\n"
          ]
        }
      ],
      "source": [
        "\n",
        "n = int(input(\"Digite a posição n da sequência de Fibonacci: \"))\n",
        "\n",
        "\n",
        "listaInicial = [1, 1]\n",
        "posi = []\n",
        "\n",
        "for i in range(2, 31):\n",
        "  numNovo = listaInicial[-1] + listaInicial[-2]\n",
        "  listaInicial.append(numNovo)\n",
        "  if n-1 == i:\n",
        "    posi.append(numNovo)\n",
        "\n",
        "\n",
        "\n",
        "print(f\"O numero que aparece na posição {n} da sequência de Fibonacci é: {posi}\")"
      ]
    },
    {
      "cell_type": "markdown",
      "metadata": {
        "id": "n6QFawKqLtDE"
      },
      "source": [
        "Exercício 27"
      ]
    },
    {
      "cell_type": "markdown",
      "metadata": {
        "id": "FVDH4VaELvoe"
      },
      "source": [
        "Elabore um programa que receba a base e o expoente e, utilizando laços e\n",
        "multiplicação, apresente o valor da potência gerada."
      ]
    },
    {
      "cell_type": "code",
      "execution_count": null,
      "metadata": {
        "colab": {
          "base_uri": "https://localhost:8080/"
        },
        "id": "xSFm7Sw7L3Qg",
        "outputId": "1a1b781f-e342-451e-b173-60d66d3ab0e2"
      },
      "outputs": [
        {
          "name": "stdout",
          "output_type": "stream",
          "text": [
            "Digite a base: 2\n",
            "Digite o expoente: 2\n",
            "Resultado: 4\n"
          ]
        }
      ],
      "source": [
        "base = int (input(\"Digite a base: \"))\n",
        "expo = int (input(\"Digite o expoente: \"))\n",
        "\n",
        "print(f\"Resultado: {base ** expo}\")"
      ]
    },
    {
      "cell_type": "markdown",
      "metadata": {
        "id": "hrMEDcEUNzWv"
      },
      "source": [
        "Exercício 28"
      ]
    },
    {
      "cell_type": "markdown",
      "metadata": {
        "id": "7djt_p_gN1i9"
      },
      "source": [
        "Refaça o exercício anterior, porém agora substitua a multiplicação pela soma.\n",
        "(Entende-se que: 3 x 3 = 3 + 3 + 3);"
      ]
    },
    {
      "cell_type": "code",
      "execution_count": null,
      "metadata": {
        "colab": {
          "base_uri": "https://localhost:8080/"
        },
        "id": "YRWKgqN3N3K_",
        "outputId": "94d8e808-a1e4-4bf6-d44d-c22d36f0cd8f"
      },
      "outputs": [
        {
          "name": "stdout",
          "output_type": "stream",
          "text": [
            "Digite a base: 2\n",
            "Digite o expoente: 2\n",
            "{4}\n"
          ]
        }
      ],
      "source": [
        "base = int (input(\"Digite a base: \"))\n",
        "expo = int (input(\"Digite o expoente: \"))\n",
        "resul = 0\n",
        "\n",
        "for i in range(expo):\n",
        "  resul += base\n",
        "\n",
        "print({resul})"
      ]
    },
    {
      "cell_type": "markdown",
      "metadata": {
        "id": "Y_vFjRTuOyB3"
      },
      "source": [
        "Exercício 29"
      ]
    },
    {
      "cell_type": "markdown",
      "metadata": {
        "id": "o7epzIMhO_MN"
      },
      "source": [
        "Elabore um programa capaz de calcular a área de n cômodos de uma casa. O programa\n",
        "deverá pedir ao usuário, para cada cômodo: o nome do cômodo, a largura e o\n",
        "comprimento e apresentar o valor obtido. Após o usuário ter terminado a inserção de\n",
        "todos os cômodos, o programa deverá apresentar a área total da casa."
      ]
    },
    {
      "cell_type": "code",
      "execution_count": null,
      "metadata": {
        "colab": {
          "base_uri": "https://localhost:8080/"
        },
        "id": "38KO3PFFPD-2",
        "outputId": "065e9df5-1acc-4c12-d21b-97fa31d27aab"
      },
      "outputs": [
        {
          "name": "stdout",
          "output_type": "stream",
          "text": [
            "Digite a quantidade de cômodos na sua casa: 2\n",
            "Qual o nome do 1º comômodo? Quartos\n",
            "Qual a largura do(a) Quartos? 10\n",
            "Qual o comprimento do(a) Quartos? 10\n",
            "Qual o nome do 2º comômodo? Cozinha\n",
            "Qual a largura do(a) Cozinha? 10\n",
            "Qual o comprimento do(a) Cozinha? 10\n",
            "A área total da casa é: 200.0\n"
          ]
        }
      ],
      "source": [
        "qntComodos = int(input(\"Digite a quantidade de cômodos na sua casa: \"))\n",
        "areaTotal = []\n",
        "for i in range(qntComodos):\n",
        "  nome = str(input(f\"Qual o nome do {i+1}º comômodo? \"))\n",
        "  larg = float(input(f\"Qual a largura do(a) {nome}? \"))\n",
        "  comp = float(input(f\"Qual o comprimento do(a) {nome}? \"))\n",
        "\n",
        "  area = larg * comp\n",
        "  areaTotal.append(area)\n",
        "\n",
        "print(f\"A área total da casa é: {sum(areaTotal)}\")"
      ]
    },
    {
      "cell_type": "markdown",
      "metadata": {
        "id": "GHmN7O4BSCyH"
      },
      "source": [
        "Exercício 30"
      ]
    },
    {
      "cell_type": "markdown",
      "metadata": {
        "id": "1rHuG357SEud"
      },
      "source": [
        "Um alpinista deve subir uma montanha. O percurso terá 2500 metros. Cada passo do\n",
        "alpinista, morro acima, tem 47 centímetros, porém a cada 10 passo ele escorrega 1.\n",
        "Para atingir seu objetivo, quantos passos o alpinista dará? (Resolva fazendo um\n",
        "programa que utilize laços para solucionar o problema)."
      ]
    },
    {
      "cell_type": "code",
      "execution_count": null,
      "metadata": {
        "colab": {
          "base_uri": "https://localhost:8080/",
          "height": 211
        },
        "id": "4Z7oLHrxsDjI",
        "outputId": "162ffa85-f69e-4ea8-8ef8-d62f0c4ab924"
      },
      "outputs": [
        {
          "ename": "KeyboardInterrupt",
          "evalue": "",
          "output_type": "error",
          "traceback": [
            "\u001b[0;31m---------------------------------------------------------------------------\u001b[0m",
            "\u001b[0;31mKeyboardInterrupt\u001b[0m                         Traceback (most recent call last)",
            "\u001b[0;32m<ipython-input-15-5174e33d3f4f>\u001b[0m in \u001b[0;36m<cell line: 0>\u001b[0;34m()\u001b[0m\n\u001b[1;32m      6\u001b[0m \u001b[0mpassosDados\u001b[0m \u001b[0;34m=\u001b[0m \u001b[0;36m0\u001b[0m\u001b[0;34m\u001b[0m\u001b[0;34m\u001b[0m\u001b[0m\n\u001b[1;32m      7\u001b[0m \u001b[0;34m\u001b[0m\u001b[0m\n\u001b[0;32m----> 8\u001b[0;31m \u001b[0;32mwhile\u001b[0m \u001b[0maltura\u001b[0m \u001b[0;34m<\u001b[0m \u001b[0mdistanciaTotal\u001b[0m\u001b[0;34m:\u001b[0m\u001b[0;34m\u001b[0m\u001b[0;34m\u001b[0m\u001b[0m\n\u001b[0m\u001b[1;32m      9\u001b[0m   \u001b[0;32mfor\u001b[0m \u001b[0mi\u001b[0m \u001b[0;32min\u001b[0m \u001b[0mrange\u001b[0m\u001b[0;34m(\u001b[0m\u001b[0;36m10\u001b[0m\u001b[0;34m)\u001b[0m\u001b[0;34m:\u001b[0m\u001b[0;34m\u001b[0m\u001b[0;34m\u001b[0m\u001b[0m\n\u001b[1;32m     10\u001b[0m     \u001b[0maltura\u001b[0m \u001b[0;34m=\u001b[0m \u001b[0maltura\u001b[0m \u001b[0;34m+\u001b[0m \u001b[0mpasso\u001b[0m\u001b[0;34m\u001b[0m\u001b[0;34m\u001b[0m\u001b[0m\n",
            "\u001b[0;31mKeyboardInterrupt\u001b[0m: "
          ]
        }
      ],
      "source": [
        "distanciaTotal = 250000\n",
        "\n",
        "passo = 47\n",
        "\n",
        "altura = 0\n",
        "passosDados = 0\n",
        "\n",
        "while altura < distanciaTotal:\n",
        "  for i in range(10):\n",
        "    altura = altura + passo\n",
        "    passosDados = passosDados + 1\n",
        "    if altura >= distanciaTotal:\n",
        "     break\n",
        "\n",
        "  altura = altura - passo\n",
        "  passosDados = passosDados + 1\n",
        "\n",
        "print(f\"O alpinista deu {passosDados} passos para subir a montanha.\")\n"
      ]
    },
    {
      "cell_type": "markdown",
      "metadata": {
        "id": "cBrBNuKqULyz"
      },
      "source": [
        "Exercício 31"
      ]
    },
    {
      "cell_type": "markdown",
      "metadata": {
        "id": "PDgIlKLTUiAL"
      },
      "source": [
        "Ler uma matriz M 5 x 5, calcular e escrever as seguintes somas:\n",
        "* a) da linha 3 de M\n",
        "* b) da coluna 2 de M\n",
        "* c) da diagonal principal\n",
        "* d) da diagonal secundária\n",
        "* e) de todos os elementos da matriz\n"
      ]
    },
    {
      "cell_type": "markdown",
      "metadata": {
        "id": "Hf93Qw1sUsRT"
      },
      "source": [
        "a)"
      ]
    },
    {
      "cell_type": "code",
      "execution_count": null,
      "metadata": {
        "colab": {
          "base_uri": "https://localhost:8080/"
        },
        "id": "vMA04UpNUF88",
        "outputId": "c73987bf-0a19-45f8-fe3f-94875ddd0c3f"
      },
      "outputs": [
        {
          "data": {
            "text/plain": [
              "65"
            ]
          },
          "execution_count": 39,
          "metadata": {},
          "output_type": "execute_result"
        }
      ],
      "source": [
        "matriz = [\n",
        "    [1,  2,  3,  4,  5],\n",
        "    [6,  7,  8,  9, 10],\n",
        "    [11, 12, 13, 14, 15],\n",
        "    [16, 17, 18, 19, 20],\n",
        "    [21, 22, 23, 24, 25]\n",
        "]\n",
        "\n",
        "soma = 0\n",
        "\n",
        "for j in range(len(matriz[2])):\n",
        "  soma += matriz[2][j]\n",
        "\n",
        "soma"
      ]
    },
    {
      "cell_type": "markdown",
      "metadata": {
        "id": "MX5sSHaHY8O0"
      },
      "source": [
        "b)"
      ]
    },
    {
      "cell_type": "code",
      "execution_count": null,
      "metadata": {
        "colab": {
          "base_uri": "https://localhost:8080/"
        },
        "id": "uY6Hw2BaY7L8",
        "outputId": "785fda4f-03da-4172-f3f7-6ccd8b9b99cb"
      },
      "outputs": [
        {
          "name": "stdout",
          "output_type": "stream",
          "text": [
            "2\n",
            "7\n",
            "12\n",
            "17\n",
            "22\n"
          ]
        },
        {
          "data": {
            "text/plain": [
              "60"
            ]
          },
          "execution_count": 44,
          "metadata": {},
          "output_type": "execute_result"
        }
      ],
      "source": [
        "matriz = [\n",
        "    [1,  2,  3,  4,  5],\n",
        "    [6,  7,  8,  9, 10],\n",
        "    [11, 12, 13, 14, 15],\n",
        "    [16, 17, 18, 19, 20],\n",
        "    [21, 22, 23, 24, 25]\n",
        "]\n",
        "\n",
        "soma = 0\n",
        "\n",
        "for i in range(len(matriz)):\n",
        "  print(matriz[i][1])\n",
        "\n",
        "soma"
      ]
    },
    {
      "cell_type": "markdown",
      "metadata": {
        "id": "b5JFMc-3aDfd"
      },
      "source": [
        "c)"
      ]
    },
    {
      "cell_type": "code",
      "execution_count": null,
      "metadata": {
        "colab": {
          "base_uri": "https://localhost:8080/"
        },
        "id": "RjVrpR3gaEbU",
        "outputId": "f39d8537-0106-4b86-d124-b3f7b4657963"
      },
      "outputs": [
        {
          "data": {
            "text/plain": [
              "65"
            ]
          },
          "execution_count": 70,
          "metadata": {},
          "output_type": "execute_result"
        }
      ],
      "source": [
        "matriz = [\n",
        "    [1,  2,  3,  4,  5],\n",
        "    [6,  7,  8,  9, 10],\n",
        "    [11, 12, 13, 14, 15],\n",
        "    [16, 17, 18, 19, 20],\n",
        "    [21, 22, 23, 24, 25]\n",
        "]\n",
        "\n",
        "soma = 0\n",
        "\n",
        "for i in range(len(matriz)):\n",
        "  for j in range(len(matriz)):\n",
        "    if i == j:\n",
        "      soma += matriz[i][j]\n",
        "\n",
        "soma"
      ]
    },
    {
      "cell_type": "markdown",
      "metadata": {
        "id": "_lUYtNEyazVd"
      },
      "source": [
        "d)"
      ]
    },
    {
      "cell_type": "code",
      "execution_count": null,
      "metadata": {
        "colab": {
          "base_uri": "https://localhost:8080/"
        },
        "id": "m64epZbUbsnG",
        "outputId": "5d6c5c72-f53c-42d3-e548-224261a3e7c7"
      },
      "outputs": [
        {
          "name": "stdout",
          "output_type": "stream",
          "text": [
            "5\n",
            "9\n",
            "13\n",
            "17\n",
            "21\n"
          ]
        },
        {
          "data": {
            "text/plain": [
              "65"
            ]
          },
          "execution_count": 77,
          "metadata": {},
          "output_type": "execute_result"
        }
      ],
      "source": [
        "matriz = [\n",
        "    [1,  2,  3,  4,  5],   # linha 0\n",
        "    [6,  7,  8,  9, 10],   # linha 1\n",
        "    [11, 12, 13, 14, 15],  # linha 2\n",
        "    [16, 17, 18, 19, 20],  # linha 3\n",
        "    [21, 22, 23, 24, 25]   # linha 4\n",
        "]\n",
        "\n",
        "soma = 0\n",
        "\n",
        "for i in range(len(matriz)):\n",
        "  print(matriz[i][4 - i])\n",
        "  soma += matriz[i][4 - i]\n",
        "\n",
        "soma"
      ]
    },
    {
      "cell_type": "markdown",
      "metadata": {
        "id": "z5aTs205a0MG"
      },
      "source": [
        "e)"
      ]
    },
    {
      "cell_type": "code",
      "execution_count": null,
      "metadata": {
        "colab": {
          "base_uri": "https://localhost:8080/"
        },
        "id": "mwdSKk3ya1Ws",
        "outputId": "93f252f3-57fb-46a0-8ffa-a77b78caf5b6"
      },
      "outputs": [
        {
          "data": {
            "text/plain": [
              "325"
            ]
          },
          "execution_count": 51,
          "metadata": {},
          "output_type": "execute_result"
        }
      ],
      "source": [
        "matriz = [\n",
        "    [1,  2,  3,  4,  5],\n",
        "    [6,  7,  8,  9, 10],\n",
        "    [11, 12, 13, 14, 15],\n",
        "    [16, 17, 18, 19, 20],\n",
        "    [21, 22, 23, 24, 25]\n",
        "]\n",
        "\n",
        "soma = 0\n",
        "\n",
        "for i in range(len(matriz)):\n",
        "  for j in range(len(matriz)):\n",
        "    soma += matriz[i][j]\n",
        "\n",
        "soma"
      ]
    },
    {
      "cell_type": "markdown",
      "metadata": {
        "id": "gFXCk_yy12hq"
      },
      "source": [
        "Exercício 32"
      ]
    },
    {
      "cell_type": "markdown",
      "metadata": {
        "id": "1EpHqT2115NK"
      },
      "source": [
        "Ler 2 matrizes, A 4 x 6 e B 4 x 6 e criar:\n",
        "* a) uma matriz S que seja a soma de A e B.\n",
        "* b) uma matriz D que seja a diferença de A e B. (A – B).\n",
        "* Escrever as matrizes S e D após todo cálculo estar concluído."
      ]
    },
    {
      "cell_type": "code",
      "execution_count": null,
      "metadata": {
        "colab": {
          "base_uri": "https://localhost:8080/"
        },
        "id": "lDj1CziN7lIo",
        "outputId": "5214b8b9-958a-4118-fd89-59814a4093cc"
      },
      "outputs": [
        {
          "name": "stdout",
          "output_type": "stream",
          "text": [
            "[[2, 4, 6, 8, 10, 12], [12, 14, 16, 18, 20, 42], [22, 24, 26, 28, 30], [32, 34, 36, 38, 40]]\n",
            "[[0, 0, 0, 0, 0, 0], [0, 0, 0, 0, 0, 0], [0, 0, 0, 0, 0], [0, 0, 0, 0, 0]]\n"
          ]
        }
      ],
      "source": [
        "A = [\n",
        "    [1, 2, 3, 4, 5, 6],\n",
        "    [6, 7, 8, 9, 10, 21],\n",
        "    [11, 12, 13, 14, 15],\n",
        "    [16, 17, 18, 19, 20],\n",
        "]\n",
        "\n",
        "B = [\n",
        "    [1, 2, 3, 4, 5, 6],\n",
        "    [6, 7, 8, 9, 10, 21],\n",
        "    [11, 12, 13, 14, 15],\n",
        "    [16, 17, 18, 19, 20],\n",
        "]\n",
        "\n",
        "S = []\n",
        "D = []\n",
        "\n",
        "for i in range(len(A)):\n",
        "  linha = []\n",
        "  for j in range(len(A[i])):\n",
        "    soma = A[i][j] + B[i][j]\n",
        "    linha.append(soma)\n",
        "  S.append(linha)\n",
        "\n",
        "for k in range(len(A)):\n",
        "  linhaa = []\n",
        "  for l in range(len(A[k])):\n",
        "    diferenca = A[k][l] - B[k][l]\n",
        "    linhaa.append(diferenca)\n",
        "  D.append(linhaa)\n",
        "\n",
        "\n",
        "print(S)\n",
        "print(D)\n"
      ]
    },
    {
      "cell_type": "markdown",
      "metadata": {
        "id": "f6571mNBUEGd"
      },
      "source": [
        "Exercíco 33"
      ]
    },
    {
      "cell_type": "markdown",
      "metadata": {
        "id": "HA7H8x5kHGFg"
      },
      "source": [
        "Ler uma matriz A de 4 x 4, calcular e escrever as somas dos elementos marcados com o\n",
        "X. Utilizar estruturas de repetição.\n",
        "\n"
      ]
    },
    {
      "cell_type": "markdown",
      "metadata": {
        "id": "7TTy8uxNI1rJ"
      },
      "source": [
        "a)"
      ]
    },
    {
      "cell_type": "code",
      "execution_count": null,
      "metadata": {
        "colab": {
          "base_uri": "https://localhost:8080/"
        },
        "id": "PG48ecPfF_4S",
        "outputId": "e6195f10-d5f7-4196-a231-639f35f8a2bc"
      },
      "outputs": [
        {
          "data": {
            "text/plain": [
              "0"
            ]
          },
          "execution_count": 28,
          "metadata": {},
          "output_type": "execute_result"
        }
      ],
      "source": [
        "A = [\n",
        "    [1, 2, 3, 4],\n",
        "    [5, 6, 7, 8],\n",
        "    [9, 10, 11, 12],\n",
        "    [13, 14, 15, 16]\n",
        "]\n",
        "\n",
        "\n",
        "soma = 0\n",
        "for i in range(2):\n",
        "    for j in range(2):\n",
        "        soma += A[i][j]\n",
        "\n",
        "\n",
        "soma"
      ]
    },
    {
      "cell_type": "markdown",
      "metadata": {
        "id": "YWMIJBlGI4HY"
      },
      "source": [
        "b)"
      ]
    },
    {
      "cell_type": "code",
      "execution_count": null,
      "metadata": {
        "colab": {
          "base_uri": "https://localhost:8080/"
        },
        "id": "343d6GSMIaXQ",
        "outputId": "c0026315-7ba9-4ef4-c885-49010b569913"
      },
      "outputs": [
        {
          "data": {
            "text/plain": [
              "54"
            ]
          },
          "execution_count": 30,
          "metadata": {},
          "output_type": "execute_result"
        }
      ],
      "source": [
        "A = [\n",
        "    [1, 2, 3, 4],\n",
        "    [5, 6, 7, 8],\n",
        "    [9, 10, 11, 12],\n",
        "    [13, 14, 15, 16]\n",
        "]\n",
        "\n",
        "\n",
        "soma = 0\n",
        "for i in range(2, 4):\n",
        "    for j in range(2, 4):\n",
        "        soma += A[i][j]\n",
        "\n",
        "\n",
        "soma"
      ]
    },
    {
      "cell_type": "markdown",
      "metadata": {
        "id": "uSQIldkKI6t4"
      },
      "source": [
        "c)"
      ]
    },
    {
      "cell_type": "code",
      "execution_count": null,
      "metadata": {
        "colab": {
          "base_uri": "https://localhost:8080/"
        },
        "id": "eqnA6nqKJdt_",
        "outputId": "a4025cd2-136b-42eb-f962-f96555d95ac5"
      },
      "outputs": [
        {
          "name": "stdout",
          "output_type": "stream",
          "text": [
            "100\n"
          ]
        }
      ],
      "source": [
        "A = [\n",
        "    [1, 2, 3, 4],\n",
        "    [5, 6, 7, 8],\n",
        "    [9, 10, 11, 12],\n",
        "    [13, 14, 15, 16]\n",
        "]\n",
        "\n",
        "soma = 0\n",
        "\n",
        "for i in range(4):\n",
        "    for j in range(i + 1):\n",
        "        soma += A[i][j]\n",
        "\n",
        "print(soma)\n"
      ]
    },
    {
      "cell_type": "markdown",
      "metadata": {
        "id": "z3MYAgCNMNk3"
      },
      "source": [
        "d)"
      ]
    },
    {
      "cell_type": "code",
      "execution_count": null,
      "metadata": {
        "colab": {
          "base_uri": "https://localhost:8080/"
        },
        "id": "UMPIT7jAMPCO",
        "outputId": "8a508074-1f03-4884-8bd5-730b550f1999"
      },
      "outputs": [
        {
          "name": "stdout",
          "output_type": "stream",
          "text": [
            "36\n"
          ]
        }
      ],
      "source": [
        "A = [\n",
        "    [1, 2, 3, 4],\n",
        "    [5, 6, 7, 8],\n",
        "    [9, 10, 11, 12],\n",
        "    [13, 14, 15, 16]\n",
        "]\n",
        "\n",
        "soma = 0\n",
        "\n",
        "for i in range(3):\n",
        "    for j in range(i + 1, 4):\n",
        "        soma += A[i][j]\n",
        "\n",
        "print(soma)\n"
      ]
    },
    {
      "cell_type": "markdown",
      "metadata": {
        "id": "pdFd0d4FUGbM"
      },
      "source": [
        "Exercício 34"
      ]
    },
    {
      "cell_type": "markdown",
      "metadata": {
        "id": "TF7c3LisUI1M"
      },
      "source": [
        "Ler uma matriz D 5 x 5 (considere que não serão informados valores duplicados). A\n",
        "seguir ler um número X e escreva uma mensagem indicando se o valor de X existe ou\n",
        "NÃO na matriz."
      ]
    },
    {
      "cell_type": "code",
      "execution_count": null,
      "metadata": {
        "colab": {
          "base_uri": "https://localhost:8080/"
        },
        "id": "Ajo1P_htUKC8",
        "outputId": "21db7eee-6c15-4654-c689-e92b2b2774db"
      },
      "outputs": [
        {
          "name": "stdout",
          "output_type": "stream",
          "text": [
            "Digite o 1º número para a 1º linha da matriz: 1\n",
            "Digite o 2º número para a 1º linha da matriz: 2\n",
            "Digite o 1º número para a 2º linha da matriz: 3\n",
            "Digite o 2º número para a 2º linha da matriz: 4\n",
            "Qual número deseja verificar se existe na matriz? 4\n",
            "O número existe na matriz\n"
          ]
        }
      ],
      "source": [
        "D = []\n",
        "\n",
        "for i in range(2):\n",
        "  linha = []\n",
        "  for j in range(2):\n",
        "    num = int(input(f\"Digite o {j + 1}º número para a {i + 1}º linha da matriz: \"))\n",
        "    linha.append(num)\n",
        "  D.append(linha)\n",
        "\n",
        "numProcurado = int(input(\"Qual número deseja verificar se existe na matriz? \"))\n",
        "\n",
        "for elemento in D:\n",
        "    if numProcurado in elemento:\n",
        "        print(\"O número existe na matriz\")\n",
        "        break\n",
        "else:\n",
        "    print(\"Seu número não existe na matriz\")\n"
      ]
    },
    {
      "cell_type": "code",
      "execution_count": null,
      "metadata": {
        "colab": {
          "base_uri": "https://localhost:8080/"
        },
        "id": "gPaNTM6KZTby",
        "outputId": "2d792c4a-e2a4-47c4-842e-e43b90d6101d"
      },
      "outputs": [
        {
          "name": "stdout",
          "output_type": "stream",
          "text": [
            "Digite o 1º número para a 1º linha da matriz: 1\n",
            "Digite o 2º número para a 1º linha da matriz: 2\n",
            "Digite o 1º número para a 2º linha da matriz: 3\n",
            "Digite o 2º número para a 2º linha da matriz: 4\n",
            "Qual número deseja verificar se existe na matriz? 4\n",
            "O número existe na matriz\n"
          ]
        }
      ],
      "source": [
        "D = []\n",
        "\n",
        "for i in range(2):\n",
        "  linha = []\n",
        "  for j in range(2):\n",
        "    num = int(input(f\"Digite o {j + 1}º número para a {i + 1}º linha da matriz: \"))\n",
        "    linha.append(num)\n",
        "  D.append(linha)\n",
        "\n",
        "numProcurado = int(input(\"Qual número deseja verificar se existe na matriz? \"))\n",
        "\n",
        "for k in range(len(D)):\n",
        "  for l in range(len(D[k])):\n",
        "    if D[k][l] == numProcurado:\n",
        "      print(\"O número existe na matriz\")\n",
        "      break\n",
        "  else:\n",
        "      continue\n",
        "  break\n",
        "else:\n",
        "  print(\"Seu número não existe na matriz\")"
      ]
    },
    {
      "cell_type": "markdown",
      "metadata": {
        "id": "hjgC78mocv45"
      },
      "source": [
        "Exercício 35"
      ]
    },
    {
      "cell_type": "markdown",
      "metadata": {
        "id": "4SyTCNdOcxqZ"
      },
      "source": [
        "Ler uma matriz G 5 x 5 e criar 2 vetores SL e SC de 5 elementos que contenham\n",
        "respectivamente as somas das linhas e das colunas de G. Escrever os vetores criados."
      ]
    },
    {
      "cell_type": "code",
      "execution_count": null,
      "metadata": {
        "colab": {
          "base_uri": "https://localhost:8080/"
        },
        "id": "LoWqa6Fyc2lx",
        "outputId": "8b2a01d0-7e4a-41cb-d149-d4ac329a7627"
      },
      "outputs": [
        {
          "name": "stdout",
          "output_type": "stream",
          "text": [
            "[15, 40, 65, 90, 115]\n",
            "[55, 60, 65, 70, 75]\n"
          ]
        }
      ],
      "source": [
        "G = [\n",
        "    [1, 2, 3, 4, 5],\n",
        "    [6, 7, 8, 9, 10],\n",
        "    [11, 12, 13, 14, 15],\n",
        "    [16, 17, 18, 19, 20],\n",
        "    [21, 22, 23, 24, 25]\n",
        "]\n",
        "\n",
        "SL = []\n",
        "\n",
        "SC = []\n",
        "\n",
        "for i in range(len(G)):\n",
        "  soma = 0\n",
        "  for j in range(len(G[i])):\n",
        "    soma += G[i][j]\n",
        "  SL.append(soma)\n",
        "\n",
        "\n",
        "for j in range(len(G[i])):\n",
        "  soma = 0\n",
        "  for i in range(len(G)):\n",
        "    soma += G[i][j]\n",
        "  SC.append(soma)\n",
        "\n",
        "print(SL)\n",
        "print(SC)"
      ]
    },
    {
      "cell_type": "markdown",
      "metadata": {
        "id": "2mzk9MY-rTZP"
      },
      "source": [
        "Exercício 36"
      ]
    },
    {
      "cell_type": "markdown",
      "metadata": {
        "id": "hx6CLmJqraNl"
      },
      "source": [
        "Ler uma matriz A 12 x 13 e divida todos os 13 elementos de cada uma das 12 linhas de\n",
        "A pelo valor do maior elemento daquela linha. Escrever a matriz A modificada."
      ]
    },
    {
      "cell_type": "code",
      "execution_count": null,
      "metadata": {
        "colab": {
          "base_uri": "https://localhost:8080/"
        },
        "id": "RE4W7-HEra7e",
        "outputId": "613e9ef7-d459-42fe-a0e0-6694f0c6c5e5"
      },
      "outputs": [
        {
          "data": {
            "text/plain": [
              "[[0.7777777777777778,\n",
              "  0.5959595959595959,\n",
              "  0.4444444444444444,\n",
              "  0.8585858585858586,\n",
              "  1.0,\n",
              "  0.7373737373737373,\n",
              "  0.31313131313131315,\n",
              "  0.8585858585858586,\n",
              "  0.5555555555555556,\n",
              "  0.5050505050505051,\n",
              "  0.46464646464646464,\n",
              "  0.32323232323232326,\n",
              "  0.2828282828282828],\n",
              " [0.9578947368421052,\n",
              "  0.7473684210526316,\n",
              "  0.5263157894736842,\n",
              "  0.5052631578947369,\n",
              "  0.09473684210526316,\n",
              "  0.9894736842105263,\n",
              "  0.11578947368421053,\n",
              "  1.0,\n",
              "  0.5052631578947369,\n",
              "  0.21052631578947367,\n",
              "  0.35789473684210527,\n",
              "  0.7789473684210526,\n",
              "  0.5052631578947369],\n",
              " [0.34210526315789475,\n",
              "  0.5263157894736842,\n",
              "  0.6578947368421053,\n",
              "  0.9342105263157895,\n",
              "  0.7368421052631579,\n",
              "  0.14473684210526316,\n",
              "  0.2631578947368421,\n",
              "  0.11842105263157894,\n",
              "  0.35526315789473684,\n",
              "  0.9210526315789473,\n",
              "  0.3684210526315789,\n",
              "  0.3157894736842105,\n",
              "  1.0],\n",
              " [0.45555555555555555,\n",
              "  0.011111111111111112,\n",
              "  0.4222222222222222,\n",
              "  0.4111111111111111,\n",
              "  0.14444444444444443,\n",
              "  0.6222222222222222,\n",
              "  0.4888888888888889,\n",
              "  0.03333333333333333,\n",
              "  0.5555555555555556,\n",
              "  0.7666666666666667,\n",
              "  0.6222222222222222,\n",
              "  1.0,\n",
              "  0.18888888888888888],\n",
              " [0.7888888888888889,\n",
              "  0.5555555555555556,\n",
              "  0.6,\n",
              "  0.13333333333333333,\n",
              "  0.15555555555555556,\n",
              "  1.0,\n",
              "  0.18888888888888888,\n",
              "  0.7777777777777778,\n",
              "  0.8555555555555555,\n",
              "  0.3111111111111111,\n",
              "  0.7777777777777778,\n",
              "  0.9777777777777777,\n",
              "  0.6],\n",
              " [0.4772727272727273,\n",
              "  0.9090909090909091,\n",
              "  0.26136363636363635,\n",
              "  0.42045454545454547,\n",
              "  0.8636363636363636,\n",
              "  0.29545454545454547,\n",
              "  0.5681818181818182,\n",
              "  0.3409090909090909,\n",
              "  0.36363636363636365,\n",
              "  0.25,\n",
              "  0.1590909090909091,\n",
              "  1.0,\n",
              "  0.7272727272727273],\n",
              " [0.1951219512195122,\n",
              "  0.4878048780487805,\n",
              "  0.36585365853658536,\n",
              "  1.0,\n",
              "  0.4268292682926829,\n",
              "  0.9146341463414634,\n",
              "  0.2682926829268293,\n",
              "  0.9024390243902439,\n",
              "  0.5975609756097561,\n",
              "  0.8414634146341463,\n",
              "  0.04878048780487805,\n",
              "  0.5487804878048781,\n",
              "  0.975609756097561],\n",
              " [0.02040816326530612,\n",
              "  0.8163265306122449,\n",
              "  0.8571428571428571,\n",
              "  0.08163265306122448,\n",
              "  0.47959183673469385,\n",
              "  0.8775510204081632,\n",
              "  0.45918367346938777,\n",
              "  0.2653061224489796,\n",
              "  0.7448979591836735,\n",
              "  0.6122448979591837,\n",
              "  1.0,\n",
              "  0.47959183673469385,\n",
              "  0.6020408163265306],\n",
              " [0.5714285714285714,\n",
              "  0.5934065934065934,\n",
              "  0.37362637362637363,\n",
              "  0.6593406593406593,\n",
              "  0.8241758241758241,\n",
              "  0.25274725274725274,\n",
              "  1.0,\n",
              "  0.1978021978021978,\n",
              "  0.5384615384615384,\n",
              "  0.945054945054945,\n",
              "  0.7582417582417582,\n",
              "  0.31868131868131866,\n",
              "  0.02197802197802198],\n",
              " [0.1744186046511628,\n",
              "  1.0,\n",
              "  0.8488372093023255,\n",
              "  0.9418604651162791,\n",
              "  0.19767441860465115,\n",
              "  0.5930232558139535,\n",
              "  0.5930232558139535,\n",
              "  0.5348837209302325,\n",
              "  0.36046511627906974,\n",
              "  0.13953488372093023,\n",
              "  0.09302325581395349,\n",
              "  0.9534883720930233,\n",
              "  0.6511627906976745],\n",
              " [0.4888888888888889,\n",
              "  0.9,\n",
              "  0.7555555555555555,\n",
              "  0.03333333333333333,\n",
              "  0.3111111111111111,\n",
              "  0.6,\n",
              "  0.4111111111111111,\n",
              "  0.2777777777777778,\n",
              "  0.044444444444444446,\n",
              "  0.2,\n",
              "  0.6333333333333333,\n",
              "  0.5777777777777777,\n",
              "  1.0],\n",
              " [0.49382716049382713,\n",
              "  0.8148148148148148,\n",
              "  0.4691358024691358,\n",
              "  0.2222222222222222,\n",
              "  0.19753086419753085,\n",
              "  0.8395061728395061,\n",
              "  0.09876543209876543,\n",
              "  0.2962962962962963,\n",
              "  0.18518518518518517,\n",
              "  0.037037037037037035,\n",
              "  1.0,\n",
              "  0.3950617283950617,\n",
              "  0.08641975308641975]]"
            ]
          },
          "execution_count": 120,
          "metadata": {},
          "output_type": "execute_result"
        }
      ],
      "source": [
        "A = [\n",
        "  [77, 59, 44, 85, 99, 73, 31, 85, 55, 50, 46, 32, 28],\n",
        "  [91, 71, 50, 48, 9, 94, 11, 95, 48, 20, 34, 74, 48],\n",
        "  [26, 40, 50, 71, 56, 11, 20, 9, 27, 70, 28, 24, 76],\n",
        "  [41, 1, 38, 37, 13, 56, 44, 3, 50, 69, 56, 90, 17],\n",
        "  [71, 50, 54, 12, 14, 90, 17, 70, 77, 28, 70, 88, 54],\n",
        "  [42, 80, 23, 37, 76, 26, 50, 30, 32, 22, 14, 88, 64],\n",
        "  [16, 40, 30, 82, 35, 75, 22, 74, 49, 69, 4, 45, 80],\n",
        "  [2, 80, 84, 8, 47, 86, 45, 26, 73, 60, 98, 47, 59],\n",
        "  [52, 54, 34, 60, 75, 23, 91, 18, 49, 86, 69, 29, 2],\n",
        "  [15, 86, 73, 81, 17, 51, 51, 46, 31, 12, 8, 82, 56],\n",
        "  [44, 81, 68, 3, 28, 54, 37, 25, 4, 18, 57, 52, 90],\n",
        "  [40, 66, 38, 18, 16, 68, 8, 24, 15, 3, 81, 32, 7]\n",
        "]\n",
        "\n",
        "B = []\n",
        "\n",
        "for i in range(len(A)):\n",
        "  linha = []\n",
        "  numMaximo = max(A[i])\n",
        "  for j in range(len(A[i])):\n",
        "    divi = A[i][j] / numMaximo\n",
        "    linha.append(divi)\n",
        "  B.append(linha)\n",
        "\n",
        "B"
      ]
    },
    {
      "cell_type": "markdown",
      "metadata": {
        "id": "2OO2DaMXvIK8"
      },
      "source": [
        "Exercício 37 e 38"
      ]
    },
    {
      "cell_type": "markdown",
      "metadata": {
        "id": "8bcxhQQQvLAz"
      },
      "source": [
        "37. Ler um vetor G de 13 elementos que contenha o gabarito da loteria esportiva\n",
        "codificado da seguinte forma: 1-coluna um, 2-coluna do meio, 3-coluna dois.\n",
        "38. Logo após, ler uma matriz 13 x 3 que contenha a aposta de um jogador. Considere que\n",
        "cada posição da matriz armazenará o valor 1 se for apostado, 0 caso contrário.\n",
        "\n",
        "Calcular e escrever o número de pontos obtidos pelo jogador. Escrever também o número de\n",
        "apostas simples, dupla ou tripla utilizadas pelo apostador."
      ]
    },
    {
      "cell_type": "code",
      "execution_count": 14,
      "metadata": {
        "colab": {
          "base_uri": "https://localhost:8080/"
        },
        "id": "CZ7fsdSWvTmE",
        "outputId": "419574ca-708f-4a6c-ff3e-e6ab96084865"
      },
      "outputs": [
        {
          "output_type": "stream",
          "name": "stdout",
          "text": [
            "Digite o 1º resultado do gabarito da loteria. 1 - Time A Ganha / 2 - Empate / 3 - Time B Ganha: 1\n",
            "Digite o 2º resultado do gabarito da loteria. 1 - Time A Ganha / 2 - Empate / 3 - Time B Ganha: 1\n",
            "Digite o 3º resultado do gabarito da loteria. 1 - Time A Ganha / 2 - Empate / 3 - Time B Ganha: 1\n",
            "Mandou bem! O gabarito está pronto. Bora conferir a pontuação dos jogadores!\n",
            "Qual o nome do jogador a verificar resultado? Lucas\n",
            "Lucas quem você acha que ganhará no 1 º jogo? 1 - Time A Ganha / 2 - Empate / 3 - Time B Ganha: 1\n",
            "Lucas quem você acha que ganhará no 2 º jogo? 1 - Time A Ganha / 2 - Empate / 3 - Time B Ganha: 2\n",
            "Lucas quem você acha que ganhará no 3 º jogo? 1 - Time A Ganha / 2 - Empate / 3 - Time B Ganha: 3\n",
            "Lucas sua pontuação foi de: 1\n"
          ]
        }
      ],
      "source": [
        "gabarito = []\n",
        "gabaritoJogador = []\n",
        "\n",
        "for i in range(3):\n",
        "  while True:\n",
        "    numAposta = int(input(f\"Digite o {i + 1}º resultado do gabarito da loteria. 1 - Time A Ganha / 2 - Empate / 3 - Time B Ganha: \"))\n",
        "\n",
        "    if numAposta in (1, 2, 3):\n",
        "      gabarito.append(numAposta)\n",
        "      break\n",
        "    else:\n",
        "      print(\"Opção inválida! Digite 1 - Time A Ganha / 2 - Empate / 3 - Time B Ganha.\")\n",
        "\n",
        "print(\"Mandou bem! O gabarito está pronto. Bora conferir a pontuação dos jogadores!\")\n",
        "\n",
        "nomeJogador = str(input(\"Qual o nome do jogador a verificar resultado? \"))\n",
        "\n",
        "for i in range(3):\n",
        "  while True:\n",
        "    numApostaJogador = int(input(f\"{nomeJogador} quem você acha que ganhará no {i + 1} º jogo? 1 - Time A Ganha / 2 - Empate / 3 - Time B Ganha: \"))\n",
        "\n",
        "    if numApostaJogador in (1, 2, 3):\n",
        "      gabaritoJogador.append(numApostaJogador)\n",
        "      break\n",
        "    else:\n",
        "      print(\"Opção inválida! Digite 1 - Time A Ganha / 2 - Empate / 3 - Time B Ganha.\")\n",
        "\n",
        "pontuacao = 0\n",
        "\n",
        "for j in range(len(gabarito)):\n",
        "  if gabarito[j] == gabaritoJogador[j]:\n",
        "    pontuacao += 1\n",
        "\n",
        "\n",
        "print(f\"{nomeJogador} sua pontuação foi de: {pontuacao}\")"
      ]
    },
    {
      "cell_type": "markdown",
      "metadata": {
        "id": "HKlyw3ocvVdI"
      },
      "source": [
        "## Lista de Exercícios de Funções"
      ]
    },
    {
      "cell_type": "markdown",
      "metadata": {
        "id": "0oTuyFonyA9q"
      },
      "source": [
        "Exercício 39"
      ]
    },
    {
      "cell_type": "markdown",
      "metadata": {
        "id": "YS7fDYkCvbZf"
      },
      "source": [
        "Crie uma rotina de calculadora, onde receba dois valores e indique e receba qual\n",
        "operação básica deseja calcular, em seguida apresente o resultado. Todo o cálculo\n",
        "deve ser feito com uso de funções."
      ]
    },
    {
      "cell_type": "code",
      "execution_count": null,
      "metadata": {
        "colab": {
          "base_uri": "https://localhost:8080/"
        },
        "id": "bJE-6T_dvaHR",
        "outputId": "1a949a4d-8eed-4a2a-cdcb-bf13c9ff6234"
      },
      "outputs": [
        {
          "name": "stdout",
          "output_type": "stream",
          "text": [
            "Insira o primeiro número: 2\n",
            "Insira o segundo número: 3\n",
            "Qual operação deseja efetuar? 1- Soma 2- Subtração 3- Divisão 4- Multiplicação: 1\n",
            "Resultado: 5\n"
          ]
        }
      ],
      "source": [
        "def Calculadora():\n",
        "  x = int(input(\"Insira o primeiro número: \"))\n",
        "  y = int(input(\"Insira o segundo número: \"))\n",
        "  z = int(input(\"Qual operação deseja efetuar? 1 - Soma, 2 - Subtração, 3 - Divisão, 4 - Multiplicação: \"))\n",
        "\n",
        "  if z == 1:\n",
        "    return x + y\n",
        "  elif z == 2:\n",
        "    return x - y\n",
        "  elif z == 3:\n",
        "    return x / y\n",
        "  elif z == 4:\n",
        "    return x * y\n",
        "  else:\n",
        "    return \"Operação inválida\"\n",
        "\n",
        "resultado = Calculadora()\n",
        "print(\"Resultado:\", resultado)\n"
      ]
    },
    {
      "cell_type": "markdown",
      "metadata": {
        "id": "4bWvJRQ5yGBJ"
      },
      "source": [
        "Exercício 40"
      ]
    },
    {
      "cell_type": "markdown",
      "metadata": {
        "id": "qt9VqedgyIy5"
      },
      "source": [
        "Refaça a lógica anterior, porém para a multiplicação deve ser feita utilizando seguidas\n",
        "somas."
      ]
    },
    {
      "cell_type": "code",
      "execution_count": null,
      "metadata": {
        "colab": {
          "base_uri": "https://localhost:8080/"
        },
        "id": "TgQQkWaKyRZI",
        "outputId": "46c1d912-4298-4b62-de87-4c2220cd5270"
      },
      "outputs": [
        {
          "name": "stdout",
          "output_type": "stream",
          "text": [
            "Insira o primeiro número: 2\n",
            "Insira o segundo número: 3\n",
            "Qual operação deseja efetuar? 1 - Soma, 2 - Subtração, 3 - Divisão, 4 - Multiplicação: 4\n",
            "Resultado: 6\n"
          ]
        }
      ],
      "source": [
        "def Calculadora():\n",
        "  soma = 0\n",
        "  x = int(input(\"Insira o primeiro número: \"))\n",
        "  y = int(input(\"Insira o segundo número: \"))\n",
        "  z = int(input(\"Qual operação deseja efetuar? 1 - Soma, 2 - Subtração, 3 - Divisão, 4 - Multiplicação: \"))\n",
        "\n",
        "  if z == 1:\n",
        "    return x + y\n",
        "  elif z == 2:\n",
        "    return x - y\n",
        "  elif z == 3:\n",
        "    return x / y\n",
        "  elif z == 4:\n",
        "    for i in range(x):\n",
        "      soma = soma + y\n",
        "    return soma\n",
        "  else:\n",
        "    return \"Operação inválida\"\n",
        "\n",
        "resultado = Calculadora()\n",
        "print(\"Resultado:\", resultado)\n"
      ]
    },
    {
      "cell_type": "markdown",
      "metadata": {
        "id": "TBqIO2xtzk8h"
      },
      "source": [
        "Exercício 41"
      ]
    },
    {
      "cell_type": "markdown",
      "metadata": {
        "id": "b32S4f5Aznjh"
      },
      "source": [
        "Defina uma função chamada velocidade_media() em um script que recebe dois\n",
        "parâmetros: a distância percorrida (em metros) e o tempo (em segundos) gasto."
      ]
    },
    {
      "cell_type": "code",
      "execution_count": null,
      "metadata": {
        "id": "wTxcJGijyZqQ"
      },
      "outputs": [],
      "source": [
        "def velocidade_media(x, y):\n",
        "\n",
        "  x = int(input(\"Qual a distância percorrida (em metros) na sua viagem? \"))\n",
        "  y = int(input(\"qual foi o tempo (em segundos) gasto? \"))\n",
        "\n",
        "  return x / y\n"
      ]
    },
    {
      "cell_type": "markdown",
      "metadata": {
        "id": "CkCo0Ajo2Etp"
      },
      "source": [
        "Exercício 42"
      ]
    },
    {
      "cell_type": "markdown",
      "metadata": {
        "id": "3aJfaUMv2JXY"
      },
      "source": [
        "Utilizando a lógica anterior modifique a função velocidade_media() utilizando uma\n",
        "função divisao() para calcular a velocidade. A função divisao() recebe dois números\n",
        "como parâmetros, calcula e retorna o resultado da divisão do primeiro pelo segundo."
      ]
    },
    {
      "cell_type": "code",
      "execution_count": null,
      "metadata": {
        "colab": {
          "base_uri": "https://localhost:8080/"
        },
        "id": "18v4e1Eh2LIo",
        "outputId": "35e7b998-a434-459c-cacd-6de026582f5d"
      },
      "outputs": [
        {
          "data": {
            "text/plain": [
              "2.0"
            ]
          },
          "execution_count": 20,
          "metadata": {},
          "output_type": "execute_result"
        }
      ],
      "source": [
        "def divisao(x, y):\n",
        "  return x / y\n",
        "\n",
        "def velocidade_media(distancia, tempo):\n",
        "  return divisao(distancia, tempo)\n",
        "\n",
        "\n",
        "resulta = velocidade_media(20, 10)\n",
        "resulta"
      ]
    },
    {
      "cell_type": "markdown",
      "metadata": {
        "id": "g5c3ubyu4yeD"
      },
      "source": [
        "Exercício 43"
      ]
    },
    {
      "cell_type": "markdown",
      "metadata": {
        "id": "vNSEyK3Y4iwr"
      },
      "source": [
        "Organiza número. Faça uma rotina que organize os números recebidos em: crescente,\n",
        "decrescente e reverso.\n",
        "Por exemplo:\n",
        "* recebido: 293\n",
        "* crescente: 239\n",
        "* decrescente: 932\n",
        "* reverso: 392"
      ]
    },
    {
      "cell_type": "code",
      "execution_count": null,
      "metadata": {
        "colab": {
          "base_uri": "https://localhost:8080/"
        },
        "id": "ASFG5U6342Tk",
        "outputId": "dc89e25c-3dba-4a50-a010-bb85bb8a85cb"
      },
      "outputs": [
        {
          "name": "stdout",
          "output_type": "stream",
          "text": [
            "Digite um número: 729\n",
            "Recebido: 729\n",
            "Crescente: 279 \n",
            "Decrescente: 972 \n",
            "Reverso: 927\n"
          ]
        }
      ],
      "source": [
        "num = int(input(\"Digite um número: \"))\n",
        "numNovo = str(num)\n",
        "\n",
        "\n",
        "print(f\"Recebido: {num}\")\n",
        "print(f\"Crescente: {''.join(sorted(numNovo))} \")\n",
        "print(f\"Decrescente: {''.join(sorted(numNovo, reverse=True))} \")\n",
        "print(f\"Reverso: {numNovo[:: -1]}\")"
      ]
    },
    {
      "cell_type": "markdown",
      "metadata": {
        "id": "3z6hR7bo8fYG"
      },
      "source": [
        "Exercício 44"
      ]
    },
    {
      "cell_type": "markdown",
      "metadata": {
        "id": "zfgHwDDw8iHB"
      },
      "source": [
        "Faça um programa que converta da notação de 24 horas para a notação de 12 horas.\n",
        "Por exemplo, o programa deve converter 14:25 em 2:25 P.M. A entrada é dada em\n",
        "dois inteiros. Deve haver pelo menos duas funções: uma para fazer a conversão e uma\n",
        "para a saída. Registre a informação A.M./P.M. como um valor ‘A’ para A.M. e ‘P’ para\n",
        "P.M. Assim, a função para efetuar as conversões terá um parâmetro formal para\n",
        "registrar se é A.M. ou P.M. Inclua um loop que permita que o usuário repita esse\n",
        "cálculo para novos valores de entrada todas as vezes que desejar."
      ]
    },
    {
      "cell_type": "code",
      "execution_count": null,
      "metadata": {
        "colab": {
          "base_uri": "https://localhost:8080/",
          "height": 460
        },
        "id": "lmpHjRtd8w3Z",
        "outputId": "a2898751-cce8-4132-8688-ddc425e58255"
      },
      "outputs": [
        {
          "name": "stdout",
          "output_type": "stream",
          "text": [
            "\n",
            "Vamos converter as horas da notação de 24 horas para 12 horas!\n",
            "A hora convertida é: 2:32 P.M\n",
            "\n",
            "Vamos converter as horas da notação de 24 horas para 12 horas!\n",
            "Digite as horas: 14\n"
          ]
        },
        {
          "ename": "KeyboardInterrupt",
          "evalue": "Interrupted by user",
          "output_type": "error",
          "traceback": [
            "\u001b[0;31m---------------------------------------------------------------------------\u001b[0m",
            "\u001b[0;31mKeyboardInterrupt\u001b[0m                         Traceback (most recent call last)",
            "\u001b[0;32m<ipython-input-3-cbcd5fcae6d0>\u001b[0m in \u001b[0;36m<cell line: 0>\u001b[0;34m()\u001b[0m\n\u001b[1;32m     21\u001b[0m   \u001b[0mprint\u001b[0m\u001b[0;34m(\u001b[0m\u001b[0;34m\"\\nVamos converter as horas da notação de 24 horas para 12 horas!\"\u001b[0m\u001b[0;34m)\u001b[0m\u001b[0;34m\u001b[0m\u001b[0;34m\u001b[0m\u001b[0m\n\u001b[1;32m     22\u001b[0m   \u001b[0mh\u001b[0m \u001b[0;34m=\u001b[0m \u001b[0mint\u001b[0m\u001b[0;34m(\u001b[0m\u001b[0minput\u001b[0m\u001b[0;34m(\u001b[0m\u001b[0;34m\"Digite as horas: \"\u001b[0m\u001b[0;34m)\u001b[0m\u001b[0;34m)\u001b[0m\u001b[0;34m\u001b[0m\u001b[0;34m\u001b[0m\u001b[0m\n\u001b[0;32m---> 23\u001b[0;31m   \u001b[0mm\u001b[0m \u001b[0;34m=\u001b[0m \u001b[0mint\u001b[0m\u001b[0;34m(\u001b[0m\u001b[0minput\u001b[0m\u001b[0;34m(\u001b[0m\u001b[0;34m\"Digite os minutos: \"\u001b[0m\u001b[0;34m)\u001b[0m\u001b[0;34m)\u001b[0m\u001b[0;34m\u001b[0m\u001b[0;34m\u001b[0m\u001b[0m\n\u001b[0m\u001b[1;32m     24\u001b[0m \u001b[0;34m\u001b[0m\u001b[0m\n\u001b[1;32m     25\u001b[0m   \u001b[0mhora_convertida\u001b[0m\u001b[0;34m,\u001b[0m \u001b[0mperiodo\u001b[0m \u001b[0;34m=\u001b[0m \u001b[0mconverter\u001b[0m\u001b[0;34m(\u001b[0m\u001b[0mh\u001b[0m\u001b[0;34m)\u001b[0m\u001b[0;34m\u001b[0m\u001b[0;34m\u001b[0m\u001b[0m\n",
            "\u001b[0;32m/usr/local/lib/python3.11/dist-packages/ipykernel/kernelbase.py\u001b[0m in \u001b[0;36mraw_input\u001b[0;34m(self, prompt)\u001b[0m\n\u001b[1;32m   1175\u001b[0m                 \u001b[0;34m\"raw_input was called, but this frontend does not support input requests.\"\u001b[0m\u001b[0;34m\u001b[0m\u001b[0;34m\u001b[0m\u001b[0m\n\u001b[1;32m   1176\u001b[0m             )\n\u001b[0;32m-> 1177\u001b[0;31m         return self._input_request(\n\u001b[0m\u001b[1;32m   1178\u001b[0m             \u001b[0mstr\u001b[0m\u001b[0;34m(\u001b[0m\u001b[0mprompt\u001b[0m\u001b[0;34m)\u001b[0m\u001b[0;34m,\u001b[0m\u001b[0;34m\u001b[0m\u001b[0;34m\u001b[0m\u001b[0m\n\u001b[1;32m   1179\u001b[0m             \u001b[0mself\u001b[0m\u001b[0;34m.\u001b[0m\u001b[0m_parent_ident\u001b[0m\u001b[0;34m[\u001b[0m\u001b[0;34m\"shell\"\u001b[0m\u001b[0;34m]\u001b[0m\u001b[0;34m,\u001b[0m\u001b[0;34m\u001b[0m\u001b[0;34m\u001b[0m\u001b[0m\n",
            "\u001b[0;32m/usr/local/lib/python3.11/dist-packages/ipykernel/kernelbase.py\u001b[0m in \u001b[0;36m_input_request\u001b[0;34m(self, prompt, ident, parent, password)\u001b[0m\n\u001b[1;32m   1217\u001b[0m             \u001b[0;32mexcept\u001b[0m \u001b[0mKeyboardInterrupt\u001b[0m\u001b[0;34m:\u001b[0m\u001b[0;34m\u001b[0m\u001b[0;34m\u001b[0m\u001b[0m\n\u001b[1;32m   1218\u001b[0m                 \u001b[0;31m# re-raise KeyboardInterrupt, to truncate traceback\u001b[0m\u001b[0;34m\u001b[0m\u001b[0;34m\u001b[0m\u001b[0m\n\u001b[0;32m-> 1219\u001b[0;31m                 \u001b[0;32mraise\u001b[0m \u001b[0mKeyboardInterrupt\u001b[0m\u001b[0;34m(\u001b[0m\u001b[0;34m\"Interrupted by user\"\u001b[0m\u001b[0;34m)\u001b[0m \u001b[0;32mfrom\u001b[0m \u001b[0;32mNone\u001b[0m\u001b[0;34m\u001b[0m\u001b[0;34m\u001b[0m\u001b[0m\n\u001b[0m\u001b[1;32m   1220\u001b[0m             \u001b[0;32mexcept\u001b[0m \u001b[0mException\u001b[0m\u001b[0;34m:\u001b[0m\u001b[0;34m\u001b[0m\u001b[0;34m\u001b[0m\u001b[0m\n\u001b[1;32m   1221\u001b[0m                 \u001b[0mself\u001b[0m\u001b[0;34m.\u001b[0m\u001b[0mlog\u001b[0m\u001b[0;34m.\u001b[0m\u001b[0mwarning\u001b[0m\u001b[0;34m(\u001b[0m\u001b[0;34m\"Invalid Message:\"\u001b[0m\u001b[0;34m,\u001b[0m \u001b[0mexc_info\u001b[0m\u001b[0;34m=\u001b[0m\u001b[0;32mTrue\u001b[0m\u001b[0;34m)\u001b[0m\u001b[0;34m\u001b[0m\u001b[0;34m\u001b[0m\u001b[0m\n",
            "\u001b[0;31mKeyboardInterrupt\u001b[0m: Interrupted by user"
          ]
        }
      ],
      "source": [
        "\n",
        "\n",
        "def converter(horaRecebida):\n",
        "  if horaRecebida == 0:\n",
        "    horaConvertida = 12\n",
        "    periodo = \"A.M\"\n",
        "  elif horaRecebida > 12:\n",
        "    horaConvertida = horaRecebida - 12\n",
        "    periodo = \"P.M\"\n",
        "  else:\n",
        "    horaConvertida = horaRecebida\n",
        "    periodo = \"A.M\"\n",
        "  return horaConvertida, periodo\n",
        "\n",
        "def saida(x, y, z):\n",
        "  print(f\"A hora convertida é: {x}:{y} {z}\")\n",
        "\n",
        "rodando = True\n",
        "\n",
        "while rodando:\n",
        "  print(\"\\nVamos converter as horas da notação de 24 horas para 12 horas!\")\n",
        "  h = int(input(\"Digite as horas: \"))\n",
        "  m = int(input(\"Digite os minutos: \"))\n",
        "\n",
        "  hora_convertida, periodo = converter(h)\n",
        "  saida(hora_convertida, m, periodo)\n",
        "\n",
        "  while True:\n",
        "    decisao = input(\"Deseja converter um novo horário? (S/N): \").strip().upper()\n",
        "\n",
        "    if decisao == \"S\":\n",
        "      break\n",
        "    elif decisao == \"N\":\n",
        "      print(\"Encerrando o programa. Até mais!\")\n",
        "      rodando = False\n",
        "      break\n",
        "    else:\n",
        "      print(\"Opção inválida! Digite S para sim ou N para não.\")\n"
      ]
    },
    {
      "cell_type": "markdown",
      "metadata": {
        "id": "3l0kcIxlKcI6"
      },
      "source": [
        "Exercício 45"
      ]
    },
    {
      "cell_type": "markdown",
      "metadata": {
        "id": "KQMWC-xBKqky"
      },
      "source": [
        "Data com mês por extenso. Construa uma função que receba uma data no formato\n",
        "DD/MM/AAAA e devolva uma string no formato D de mesPorExtenso de AAAA.\n",
        "Opcionalmente, valide a data e retorne NULL caso a data seja inválida."
      ]
    },
    {
      "cell_type": "code",
      "execution_count": null,
      "metadata": {
        "colab": {
          "base_uri": "https://localhost:8080/",
          "height": 53
        },
        "id": "89M4c4dQOWiy",
        "outputId": "c9747ab4-8ec8-4233-8451-10a773ff0e8a"
      },
      "outputs": [
        {
          "name": "stdout",
          "output_type": "stream",
          "text": [
            "Insira uma data no modelo DD/MM/AAAA: 14/25/205\n"
          ]
        },
        {
          "data": {
            "application/vnd.google.colaboratory.intrinsic+json": {
              "type": "string"
            },
            "text/plain": [
              "'14 de NULL de 205'"
            ]
          },
          "execution_count": 15,
          "metadata": {},
          "output_type": "execute_result"
        }
      ],
      "source": [
        "def data(x):\n",
        "  partes = []\n",
        "\n",
        "  partes= x.split(\"/\")\n",
        "\n",
        "  dia = partes[0]\n",
        "  mes = partes[1]\n",
        "  ano = partes[2]\n",
        "\n",
        "  if mes == \"01\":\n",
        "      mesExtenso = \"Janeiro\"\n",
        "  elif mes == \"02\":\n",
        "      mesExtenso = \"Fevereiro\"\n",
        "  elif mes == \"03\":\n",
        "      mesExtenso = \"Março\"\n",
        "  elif mes == \"04\":\n",
        "      mesExtenso = \"Abril\"\n",
        "  elif mes == \"05\":\n",
        "      mesExtenso = \"Maio\"\n",
        "  elif mes == \"06\":\n",
        "      mesExtenso = \"Junho\"\n",
        "  elif mes == \"07\":\n",
        "      mesExtenso = \"Julho\"\n",
        "  elif mes == \"08\":\n",
        "      mesExtenso = \"Agosto\"\n",
        "  elif mes == \"09\":\n",
        "      mesExtenso = \"Setembro\"\n",
        "  elif mes == \"10\":\n",
        "      mesExtenso = \"Outubro\"\n",
        "  elif mes == \"11\":\n",
        "      mesExtenso = \"Novembro\"\n",
        "  elif mes == \"12\":\n",
        "      mesExtenso = \"Dezembro\"\n",
        "  else:\n",
        "      mesExtenso = \"NULL\"\n",
        "\n",
        "\n",
        "  return f\"{dia} de {mesExtenso} de {ano}\"\n",
        "\n",
        "\n",
        "\n",
        "\n",
        "dataRecebida = str(input(\"Insira uma data no modelo DD/MM/AAAA: \"))\n",
        "\n",
        "resultado = data(dataRecebida)\n",
        "\n",
        "resultado\n",
        "\n"
      ]
    }
  ],
  "metadata": {
    "colab": {
      "provenance": [],
      "authorship_tag": "ABX9TyOIofHy18X8UD9qSWl5uTeD",
      "include_colab_link": true
    },
    "kernelspec": {
      "display_name": "Python 3",
      "name": "python3"
    },
    "language_info": {
      "name": "python"
    }
  },
  "nbformat": 4,
  "nbformat_minor": 0
}